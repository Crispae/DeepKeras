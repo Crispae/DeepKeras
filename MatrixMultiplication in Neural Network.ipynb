{
 "cells": [
  {
   "cell_type": "code",
   "execution_count": 1,
   "id": "a9e04750",
   "metadata": {},
   "outputs": [],
   "source": [
    "import numpy as np"
   ]
  },
  {
   "cell_type": "code",
   "execution_count": 32,
   "id": "e4e6ac6d",
   "metadata": {},
   "outputs": [],
   "source": [
    "layer1 =   np.matrix(np.random.random(size=(10,4)))"
   ]
  },
  {
   "cell_type": "code",
   "execution_count": 33,
   "id": "91cb9fac",
   "metadata": {},
   "outputs": [
    {
     "data": {
      "text/plain": [
       "matrix([[0.47564726, 0.52326888, 0.63429522, 0.66787872],\n",
       "        [0.08587433, 0.36110846, 0.44231884, 0.17920498],\n",
       "        [0.82206121, 0.65376042, 0.09094761, 0.8415213 ],\n",
       "        [0.89585323, 0.01197268, 0.66097068, 0.91920632],\n",
       "        [0.8707127 , 0.75630832, 0.22423859, 0.71061574],\n",
       "        [0.77479632, 0.9524719 , 0.67353072, 0.03049752],\n",
       "        [0.87138764, 0.22200221, 0.70261274, 0.90758869],\n",
       "        [0.64422689, 0.64001457, 0.35706591, 0.46388925],\n",
       "        [0.13405795, 0.94341603, 0.64988902, 0.12378658],\n",
       "        [0.21896271, 0.44208584, 0.38478633, 0.10705184]])"
      ]
     },
     "execution_count": 33,
     "metadata": {},
     "output_type": "execute_result"
    }
   ],
   "source": [
    "layer1"
   ]
  },
  {
   "cell_type": "code",
   "execution_count": 34,
   "id": "9f83403e",
   "metadata": {},
   "outputs": [],
   "source": [
    "layer2 = np.matrix(np.random.random(size=(4,4)))"
   ]
  },
  {
   "cell_type": "code",
   "execution_count": 35,
   "id": "36159941",
   "metadata": {},
   "outputs": [
    {
     "data": {
      "text/plain": [
       "matrix([[0.82579209, 0.17440679, 0.10670771, 0.29289178],\n",
       "        [0.44843405, 0.381912  , 0.99450997, 0.14982831],\n",
       "        [0.01541649, 0.02140742, 0.24844297, 0.22793185],\n",
       "        [0.46797715, 0.773716  , 0.417254  , 0.77883512]])"
      ]
     },
     "execution_count": 35,
     "metadata": {},
     "output_type": "execute_result"
    }
   ],
   "source": [
    "layer2"
   ]
  },
  {
   "cell_type": "code",
   "execution_count": 36,
   "id": "0c95bb87",
   "metadata": {},
   "outputs": [],
   "source": [
    "layer3 = np.matrix(np.random.random(size=(1,)))"
   ]
  },
  {
   "cell_type": "code",
   "execution_count": 37,
   "id": "cc4762c4",
   "metadata": {},
   "outputs": [
    {
     "data": {
      "text/plain": [
       "matrix([[0.64052298]])"
      ]
     },
     "execution_count": 37,
     "metadata": {},
     "output_type": "execute_result"
    }
   ],
   "source": [
    "layer3"
   ]
  },
  {
   "cell_type": "code",
   "execution_count": 41,
   "id": "f9d5e14e",
   "metadata": {},
   "outputs": [],
   "source": [
    "data1 = np.matrix(np.random.random(10,))"
   ]
  },
  {
   "cell_type": "code",
   "execution_count": 45,
   "id": "92893dd9",
   "metadata": {},
   "outputs": [
    {
     "data": {
      "text/plain": [
       "matrix([[0.29894957, 0.70989593, 0.77580828, 0.17717477, 0.77603942,\n",
       "         0.24192506, 0.15832385, 0.03416477, 0.53221074, 0.49895611]])"
      ]
     },
     "execution_count": 45,
     "metadata": {},
     "output_type": "execute_result"
    }
   ],
   "source": [
    "data1"
   ]
  },
  {
   "cell_type": "code",
   "execution_count": 49,
   "id": "b5a9abb9",
   "metadata": {},
   "outputs": [
    {
     "name": "stdout",
     "output_type": "stream",
     "text": [
      "(1, 10) (10, 4)\n"
     ]
    },
    {
     "data": {
      "text/plain": [
       "matrix([[2.20336206, 2.51913809, 1.68955864, 1.98027857]])"
      ]
     },
     "execution_count": 49,
     "metadata": {},
     "output_type": "execute_result"
    }
   ],
   "source": [
    "### Passing data1 through layer1\n",
    "\n",
    "print(data1.shape,layer1.shape)\n",
    "res1 = data1 @ layer1\n",
    "res1"
   ]
  },
  {
   "cell_type": "code",
   "execution_count": 51,
   "id": "25895a7f",
   "metadata": {},
   "outputs": [
    {
     "name": "stdout",
     "output_type": "stream",
     "text": [
      "(1, 4)\n"
     ]
    },
    {
     "data": {
      "text/plain": [
       "matrix([[4.20336206, 4.51913809, 3.68955864, 3.98027857]])"
      ]
     },
     "execution_count": 51,
     "metadata": {},
     "output_type": "execute_result"
    }
   ],
   "source": [
    "## adding bias of 1 in this layer\n",
    "res1 +=1\n",
    "print(res1.shape)\n",
    "res1\n"
   ]
  },
  {
   "cell_type": "code",
   "execution_count": 59,
   "id": "febed9aa",
   "metadata": {},
   "outputs": [
    {
     "name": "stdout",
     "output_type": "stream",
     "text": [
      "(1, 4) (4, 4)\n"
     ]
    },
    {
     "data": {
      "text/plain": [
       "matrix([[7.417198  , 5.61759707, 7.52029108, 5.84917363]])"
      ]
     },
     "execution_count": 59,
     "metadata": {},
     "output_type": "execute_result"
    }
   ],
   "source": [
    "### Passing data in layer 2\n",
    "print(res1.shape,layer2.shape)\n",
    "res2 = res1 @ layer2\n",
    "res2"
   ]
  },
  {
   "cell_type": "code",
   "execution_count": 60,
   "id": "19bade03",
   "metadata": {},
   "outputs": [
    {
     "name": "stdout",
     "output_type": "stream",
     "text": [
      "(1, 4)\n"
     ]
    },
    {
     "data": {
      "text/plain": [
       "matrix([[8.417198  , 6.61759707, 8.52029108, 6.84917363]])"
      ]
     },
     "execution_count": 60,
     "metadata": {},
     "output_type": "execute_result"
    }
   ],
   "source": [
    "## adding bias of 1 in this layer\n",
    "res2 +=1\n",
    "print(res2.shape)\n",
    "res2"
   ]
  },
  {
   "cell_type": "code",
   "execution_count": 62,
   "id": "f7fc71d8",
   "metadata": {},
   "outputs": [
    {
     "name": "stdout",
     "output_type": "stream",
     "text": [
      "(1, 4) (1, 1)\n",
      "(4, 1) (1, 1)\n"
     ]
    },
    {
     "data": {
      "text/plain": [
       "matrix([[5.39140876],\n",
       "        [4.23872301],\n",
       "        [5.45744225],\n",
       "        [4.38705312]])"
      ]
     },
     "execution_count": 62,
     "metadata": {},
     "output_type": "execute_result"
    }
   ],
   "source": [
    "### passing data in final layer\n",
    "print(res2.shape,layer3.shape)\n",
    "print(res2.T.shape,layer3.shape)\n",
    "res3 = res2.T @ layer3\n",
    "res3\n"
   ]
  },
  {
   "cell_type": "code",
   "execution_count": null,
   "id": "d7d53317",
   "metadata": {},
   "outputs": [],
   "source": []
  }
 ],
 "metadata": {
  "kernelspec": {
   "display_name": "Python 3 (ipykernel)",
   "language": "python",
   "name": "python3"
  },
  "language_info": {
   "codemirror_mode": {
    "name": "ipython",
    "version": 3
   },
   "file_extension": ".py",
   "mimetype": "text/x-python",
   "name": "python",
   "nbconvert_exporter": "python",
   "pygments_lexer": "ipython3",
   "version": "3.8.10"
  }
 },
 "nbformat": 4,
 "nbformat_minor": 5
}
