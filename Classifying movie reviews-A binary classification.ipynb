{
 "cells": [
  {
   "cell_type": "markdown",
   "id": "5ddc6079",
   "metadata": {},
   "source": [
    "## Classifying movie reviews: A binary classification example  🎞️\n",
    "---\n",
    "\n",
    "Two-class classification, or binary clasifcation,is the modt widely applied kind of machine-learning problem.In theis we'll learn to classify movie review as postive or negative based on text content of the reveiws."
   ]
  },
  {
   "cell_type": "markdown",
   "id": "b2bcf618",
   "metadata": {},
   "source": [
    "## The IMDB dataset  🗃️\n",
    "---\n",
    "\n",
    "It is a set of 50,000 highly polarized reviews from the Internet Movie Database.They're split into 25,000 reviews for training and 25,000 reviews for testing, each set consisting of 50% negative and 50% positive reviews.  \n",
    "\n",
    "Why use seprate training and test sets?Because you should never test a machine learning model on the same data that you used to train it!Just because a model performs well on its traing data doesn't means it will perform well on data it has never seen; and what you care about is your model's performance on new data.For instance, it is merly possible that your model could end up memorizing a mapping between the training samples and their targets which could be useless for the task of predicting targets for data the model has never seen before.  \n",
    "\n",
    "This data has already been processed: the reveiws has been turned into sequence of integers,where each integer stands fir a specific word in dictionary.\n",
    "\n"
   ]
  },
  {
   "cell_type": "markdown",
   "id": "1871c3b0",
   "metadata": {},
   "source": [
    "#### 1. Loading the IMDB dataset"
   ]
  },
  {
   "cell_type": "code",
   "execution_count": 1,
   "id": "2114bf97",
   "metadata": {},
   "outputs": [
    {
     "name": "stdout",
     "output_type": "stream",
     "text": [
      "Tensorflow version:  2.4.1\n"
     ]
    }
   ],
   "source": [
    "import tensorflow as tf\n",
    "from tensorflow import keras\n",
    "import warnings\n",
    "print(\"Tensorflow version: \",tf.__version__) ## verison of tensorflow\n",
    "warnings.filterwarnings(\"ignore\")"
   ]
  },
  {
   "cell_type": "code",
   "execution_count": 3,
   "id": "4787c3dd",
   "metadata": {},
   "outputs": [],
   "source": [
    "## Loading datasets\n",
    "from tensorflow.keras.datasets import imdb\n",
    "(train_data,train_labels),(test_data,test_labels) = imdb.load_data(num_words=10000,)"
   ]
  },
  {
   "cell_type": "markdown",
   "id": "5169d494",
   "metadata": {},
   "source": [
    "The argument `num_words=10000` means only keep 10,000 most frequently occuring words in the training data.Rare words will be discarded.This allow us to work with manageable size.  \n",
    "\n",
    "The variable `train_data` and `test_data` are list of reviews; each review is a list of word indices(encoding a sequence of words). `train_labels` and `test_labels` are list of 0 and 1, where 0 stand for negative and 1 for positive."
   ]
  },
  {
   "cell_type": "code",
   "execution_count": 4,
   "id": "21f046d9",
   "metadata": {},
   "outputs": [
    {
     "data": {
      "text/plain": [
       "((25000,), (25000,))"
      ]
     },
     "execution_count": 4,
     "metadata": {},
     "output_type": "execute_result"
    }
   ],
   "source": [
    "train_data.shape,test_data.shape ### training and testing size"
   ]
  },
  {
   "cell_type": "code",
   "execution_count": 5,
   "id": "294d6b55",
   "metadata": {},
   "outputs": [
    {
     "name": "stdout",
     "output_type": "stream",
     "text": [
      "[1, 14, 22, 16, 43, 530, 973, 1622, 1385, 65, 458, 4468, 66, 3941, 4, 173, 36, 256, 5, 25, 100, 43, 838, 112, 50, 670, 2, 9, 35, 480, 284, 5, 150, 4, 172, 112, 167, 2, 336, 385, 39, 4, 172, 4536, 1111, 17, 546, 38, 13, 447, 4, 192, 50, 16, 6, 147, 2025, 19, 14, 22, 4, 1920, 4613, 469, 4, 22, 71, 87, 12, 16, 43, 530, 38, 76, 15, 13, 1247, 4, 22, 17, 515, 17, 12, 16, 626, 18, 2, 5, 62, 386, 12, 8, 316, 8, 106, 5, 4, 2223, 5244, 16, 480, 66, 3785, 33, 4, 130, 12, 16, 38, 619, 5, 25, 124, 51, 36, 135, 48, 25, 1415, 33, 6, 22, 12, 215, 28, 77, 52, 5, 14, 407, 16, 82, 2, 8, 4, 107, 117, 5952, 15, 256, 4, 2, 7, 3766, 5, 723, 36, 71, 43, 530, 476, 26, 400, 317, 46, 7, 4, 2, 1029, 13, 104, 88, 4, 381, 15, 297, 98, 32, 2071, 56, 26, 141, 6, 194, 7486, 18, 4, 226, 22, 21, 134, 476, 26, 480, 5, 144, 30, 5535, 18, 51, 36, 28, 224, 92, 25, 104, 4, 226, 65, 16, 38, 1334, 88, 12, 16, 283, 5, 16, 4472, 113, 103, 32, 15, 16, 5345, 19, 178, 32]\n"
     ]
    }
   ],
   "source": [
    "print(train_data[0]) ## encoded sequence of words of 1 review --> this is a list"
   ]
  },
  {
   "cell_type": "code",
   "execution_count": 6,
   "id": "4abb9cc2",
   "metadata": {},
   "outputs": [
    {
     "name": "stdout",
     "output_type": "stream",
     "text": [
      "1\n"
     ]
    }
   ],
   "source": [
    "print(train_labels[0]) ## binary of postive or negative review"
   ]
  },
  {
   "cell_type": "markdown",
   "id": "91e1fb0d",
   "metadata": {},
   "source": [
    "Because we're restricitng to the top 10,000 most frequents words, no words will exceed 10,000"
   ]
  },
  {
   "cell_type": "code",
   "execution_count": 7,
   "id": "fa8d7b0f",
   "metadata": {},
   "outputs": [
    {
     "name": "stdout",
     "output_type": "stream",
     "text": [
      "9999\n"
     ]
    }
   ],
   "source": [
    "print(max([max(sequence) for sequence in train_data]))"
   ]
  },
  {
   "cell_type": "markdown",
   "id": "39ee5557",
   "metadata": {},
   "source": [
    "Here is how we can qucikly decode one of these reviews back to english words."
   ]
  },
  {
   "cell_type": "code",
   "execution_count": 1,
   "id": "357e82d6",
   "metadata": {},
   "outputs": [
    {
     "ename": "NameError",
     "evalue": "name 'imdb' is not defined",
     "output_type": "error",
     "traceback": [
      "\u001b[0;31m---------------------------------------------------------------------------\u001b[0m",
      "\u001b[0;31mNameError\u001b[0m                                 Traceback (most recent call last)",
      "\u001b[0;32m/tmp/ipykernel_204/1439112476.py\u001b[0m in \u001b[0;36m<module>\u001b[0;34m\u001b[0m\n\u001b[0;32m----> 1\u001b[0;31m \u001b[0mword_index\u001b[0m \u001b[0;34m=\u001b[0m \u001b[0mimdb\u001b[0m\u001b[0;34m.\u001b[0m\u001b[0mget_word_index\u001b[0m\u001b[0;34m(\u001b[0m\u001b[0;34m)\u001b[0m\u001b[0;34m\u001b[0m\u001b[0;34m\u001b[0m\u001b[0m\n\u001b[0m\u001b[1;32m      2\u001b[0m \u001b[0mreverse_word_index\u001b[0m \u001b[0;34m=\u001b[0m \u001b[0mdict\u001b[0m\u001b[0;34m(\u001b[0m\u001b[0;34m[\u001b[0m\u001b[0;34m(\u001b[0m\u001b[0mvalue\u001b[0m\u001b[0;34m,\u001b[0m\u001b[0mkey\u001b[0m\u001b[0;34m)\u001b[0m\u001b[0;32mfor\u001b[0m \u001b[0;34m(\u001b[0m\u001b[0mkey\u001b[0m\u001b[0;34m,\u001b[0m\u001b[0mvalue\u001b[0m\u001b[0;34m)\u001b[0m \u001b[0;32min\u001b[0m \u001b[0mword_index\u001b[0m\u001b[0;34m.\u001b[0m\u001b[0mitems\u001b[0m\u001b[0;34m(\u001b[0m\u001b[0;34m)\u001b[0m\u001b[0;34m]\u001b[0m\u001b[0;34m)\u001b[0m \u001b[0;31m##reverse it mapping indegers to word\u001b[0m\u001b[0;34m\u001b[0m\u001b[0;34m\u001b[0m\u001b[0m\n\u001b[1;32m      3\u001b[0m \u001b[0mdecoded_review\u001b[0m \u001b[0;34m=\u001b[0m \u001b[0;34m\" \"\u001b[0m\u001b[0;34m.\u001b[0m\u001b[0mjoin\u001b[0m\u001b[0;34m(\u001b[0m\u001b[0;34m[\u001b[0m\u001b[0mreverse_word_index\u001b[0m\u001b[0;34m.\u001b[0m\u001b[0mget\u001b[0m\u001b[0;34m(\u001b[0m\u001b[0mi\u001b[0m\u001b[0;34m-\u001b[0m\u001b[0;36m3\u001b[0m\u001b[0;34m,\u001b[0m\u001b[0;34m'?'\u001b[0m\u001b[0;34m)\u001b[0m\u001b[0;32mfor\u001b[0m \u001b[0mi\u001b[0m \u001b[0;32min\u001b[0m \u001b[0mtrain_data\u001b[0m\u001b[0;34m[\u001b[0m\u001b[0;36m0\u001b[0m\u001b[0;34m]\u001b[0m\u001b[0;34m]\u001b[0m\u001b[0;34m)\u001b[0m \u001b[0;31m## indices 0,1,2 are \"padding\",\"start of sequence  and unknown\"\u001b[0m\u001b[0;34m\u001b[0m\u001b[0;34m\u001b[0m\u001b[0m\n\u001b[1;32m      4\u001b[0m \u001b[0mprint\u001b[0m\u001b[0;34m(\u001b[0m\u001b[0mdecoded_review\u001b[0m\u001b[0;34m)\u001b[0m \u001b[0;31m## 0th review\u001b[0m\u001b[0;34m\u001b[0m\u001b[0;34m\u001b[0m\u001b[0m\n",
      "\u001b[0;31mNameError\u001b[0m: name 'imdb' is not defined"
     ]
    }
   ],
   "source": [
    "word_index = imdb.get_word_index()\n",
    "reverse_word_index = dict([(value,key)for (key,value) in word_index.items()]) ##reverse it mapping indegers to word\n",
    "decoded_review = \" \".join([reverse_word_index.get(i-3,'?')for i in train_data[0]]) ## indices 0,1,2 are \"padding\",\"start of sequence  and unknown\"\n",
    "print(decoded_review) ## 0th review"
   ]
  },
  {
   "cell_type": "markdown",
   "id": "d0dce61e",
   "metadata": {},
   "source": [
    "#### 2. Preparing the data 🥘\n",
    "---\n",
    "\n",
    "we can't feed lists of integers into a neural network.We have to turn lists into tensors. There are two ways to do that.  \n",
    "\n",
    "- Pad your lists so that they all will have the same length, turn them into integer tensor of shape (samples,word_indices) and then use as the first layer in your network, a layer capable of handling such integer tensors (the embedding layer).  \n",
    "\n",
    "- One hot encode your lists to turn them into vector of 0s and 1s. This would mean, for instance, turning the sequence `[3,5]` into a 10,000 dimensional vector that would be all 0s except for indices 3 and 5, which would be 1s. Then You could use the first layer in your network a `Dense layer`, capable of handling floating point vector data.\n",
    "\n",
    "Lets's go with the latter solution to vectorize the data, which will do manually for maximum clarity.  \n",
    "\n",
    "**Encoding the integer sequences into a binary matrix**"
   ]
  },
  {
   "cell_type": "code",
   "execution_count": 9,
   "id": "fbb80613",
   "metadata": {},
   "outputs": [],
   "source": [
    "import numpy as np\n",
    "\n",
    "def vectorize_sequences(sequences,dimension=int(10000)):\n",
    "    results = np.zeros((len(sequences),10000)) ## creates a all zero matrix\n",
    "    for i, sequence in enumerate(sequences):\n",
    "        results[i,sequence] = 1 ## set specific indices to 1\n",
    "    return results\n"
   ]
  },
  {
   "cell_type": "code",
   "execution_count": 10,
   "id": "22a12450",
   "metadata": {},
   "outputs": [],
   "source": [
    "x_train = vectorize_sequences(train_data) ## vectorizing training data\n",
    "x_test = vectorize_sequences(test_data) ## testing data"
   ]
  },
  {
   "cell_type": "markdown",
   "id": "5d669655",
   "metadata": {},
   "source": [
    "**Here's what the sample looks like.** 🔎\n",
    "___"
   ]
  },
  {
   "cell_type": "code",
   "execution_count": 11,
   "id": "e1833fca",
   "metadata": {},
   "outputs": [
    {
     "data": {
      "text/plain": [
       "array([0., 1., 1., ..., 0., 0., 0.])"
      ]
     },
     "execution_count": 11,
     "metadata": {},
     "output_type": "execute_result"
    }
   ],
   "source": [
    "x_train[0]"
   ]
  },
  {
   "cell_type": "markdown",
   "id": "fe5ee76d",
   "metadata": {},
   "source": [
    "We should vectorize our label."
   ]
  },
  {
   "cell_type": "code",
   "execution_count": 12,
   "id": "562f6d04",
   "metadata": {},
   "outputs": [],
   "source": [
    "y_train = np.array(train_labels).astype(\"float32\")\n",
    "y_test = np.array(test_labels).astype(\"float32\")"
   ]
  },
  {
   "cell_type": "code",
   "execution_count": 13,
   "id": "c7f90f4a",
   "metadata": {},
   "outputs": [
    {
     "data": {
      "text/plain": [
       "array([1., 0., 0., ..., 0., 1., 0.], dtype=float32)"
      ]
     },
     "execution_count": 13,
     "metadata": {},
     "output_type": "execute_result"
    }
   ],
   "source": [
    "y_train"
   ]
  },
  {
   "cell_type": "markdown",
   "id": "09b0e51f",
   "metadata": {},
   "source": [
    "Now the data is ready to feed into neural network."
   ]
  },
  {
   "cell_type": "markdown",
   "id": "369df319",
   "metadata": {},
   "source": [
    "#### Building your neural network 📦📦📦📦\n",
    "---\n",
    "\n",
    "The input data is vectors, and the labels are scalars(1s and 0s): this is the easiest setup you'll ever encounter.A type of network that performs well on such s problem is a simple stack of `fully connected (Dense) layers` with `relu` activation function: `Dense(16,activation=\"relu)`.  \n",
    "\n",
    "The argument being passed to each dense layer(16) is the number of hidden units of a layer.Eaxh dense layer with relu activation implements the following chain of tensor operatios:\n",
    "\n",
    "`output = relu(dot(w,input), + b)` \n",
    "\n",
    "Having 16 hidden units means the weight matrix `W` will have shape `(input_dimension,16)`: The dot product with `w` will project the input data onto a 16-dimensional represntation space( and then you'll add the bias vector b and apply relu opertaions).We can intutively understand the dimensionlity of our representation space as \"how much freedom you are allowing the network to have when learning the internal represntation\". Having more hidde units (a higher-dimensional represntation space) alllows your network to learn more-complex repsentations, but it makes hte network more computionally expensive and may lead to learning unwanted patterns (patterns taht will improve performance of the training data but not on test data.)  \n",
    "\n",
    ">There are two architecture decisions to bemade about such a stack of `Dense` layers ❓:  \n",
    "    How many layers to use ?\n",
    "    How man hidden units to choose for each layer?  \n",
    "    \n",
    "In this we are goin to use two intermeddiate layer with 16 units each.  \n",
    "\n",
    "A third layer taht will output the scalar predcition regarding the sentiment of current review.  \n",
    "\n",
    "The intermediate layer will be `relu` as their activation function, and the final layer will use a sigmoid activation function so as to output a probablity a score between (0 and 1 indicating how likely the sample is to have  the target \"1\": how likley the review is to be positive.) A `relu` (rectified linear unit) is s function meant to zero out negative values, whereas sigmoid \"squashes\" arbitary value into `[0,1]` interval, outputting something as a probabiltiy."
   ]
  },
  {
   "cell_type": "markdown",
   "id": "bd9264c3",
   "metadata": {},
   "source": [
    "#### The model defination\n",
    "---"
   ]
  },
  {
   "cell_type": "code",
   "execution_count": 3,
   "id": "fff0bf19",
   "metadata": {},
   "outputs": [],
   "source": [
    "from tensorflow.keras import models,layers\n",
    "\n",
    "model = models.Sequential()\n",
    "model.add(layers.Dense(16,activation=\"relu\",input_shape=(10000,))) ### 16 defines the dimension of weight matrix(16,10000)\n",
    "model.add(layers.Dense(16,activation=\"relu\"))\n",
    "model.add(layers.Dense(1,activation=\"sigmoid\"))"
   ]
  },
  {
   "cell_type": "code",
   "execution_count": 16,
   "id": "0d2d04ed",
   "metadata": {},
   "outputs": [
    {
     "data": {
      "text/plain": [
       "[array([[ 0.00047412,  0.00619369,  0.00326663, ..., -0.01629463,\n",
       "         -0.00610616,  0.01007491],\n",
       "        [ 0.01938096, -0.0005775 , -0.00220568, ..., -0.01737208,\n",
       "         -0.01823393, -0.00377434],\n",
       "        [ 0.01406508,  0.00854339,  0.01852968, ..., -0.00237148,\n",
       "          0.00393913,  0.00972803],\n",
       "        ...,\n",
       "        [-0.01470048,  0.00586499, -0.01156728, ...,  0.01210576,\n",
       "          0.00493172, -0.00685034],\n",
       "        [-0.01946554,  0.01986859, -0.0087304 , ...,  0.00256978,\n",
       "          0.00315435,  0.01492684],\n",
       "        [-0.00767086,  0.02131751,  0.00532693, ..., -0.00540482,\n",
       "         -0.02047692,  0.00391513]], dtype=float32),\n",
       " array([0., 0., 0., 0., 0., 0., 0., 0., 0., 0., 0., 0., 0., 0., 0., 0.],\n",
       "       dtype=float32),\n",
       " array([[ 0.07742283, -0.05839011, -0.38234222, -0.34573412,  0.16341195,\n",
       "          0.3186669 ,  0.10775331, -0.07451543,  0.27410176, -0.3337612 ,\n",
       "          0.11406437,  0.39397284, -0.03715917,  0.2027131 , -0.20735438,\n",
       "         -0.3088567 ],\n",
       "        [-0.33639148,  0.12339875, -0.38935828, -0.25848964,  0.09334663,\n",
       "          0.20053837, -0.38843638, -0.16248703, -0.02048889,  0.39802966,\n",
       "          0.06076688,  0.03674281, -0.15120876,  0.20100418, -0.27540267,\n",
       "          0.41658875],\n",
       "        [-0.04915205,  0.34901473, -0.12005621,  0.3887814 , -0.28100848,\n",
       "         -0.04557288, -0.15182045, -0.19236821,  0.41144666,  0.09599385,\n",
       "          0.19097653,  0.31406465, -0.29859936,  0.1365644 ,  0.18631527,\n",
       "          0.2260504 ],\n",
       "        [-0.2670354 ,  0.29130122,  0.02528048, -0.2542675 , -0.05106071,\n",
       "         -0.14034253, -0.3557759 , -0.10918128, -0.28137743,  0.10024282,\n",
       "          0.2903078 ,  0.02628848, -0.29988974, -0.19515853,  0.0305858 ,\n",
       "         -0.31387284],\n",
       "        [ 0.18604943,  0.1668252 , -0.00621432, -0.11258197, -0.22267835,\n",
       "          0.32010904,  0.12896982, -0.34737077, -0.12299135, -0.3306187 ,\n",
       "          0.36713406, -0.3925215 , -0.34885493,  0.28653464,  0.22412118,\n",
       "         -0.41653317],\n",
       "        [-0.40013924, -0.12858802, -0.19457482,  0.42257228, -0.41488457,\n",
       "          0.0067077 ,  0.0486463 , -0.10021845, -0.21094356, -0.06272355,\n",
       "          0.15415737, -0.1001597 ,  0.32162437,  0.07557598,  0.16496661,\n",
       "         -0.16145763],\n",
       "        [ 0.37473848, -0.04943615, -0.21412113,  0.1188775 ,  0.34490296,\n",
       "          0.29958972,  0.09573236,  0.41797808,  0.41350046, -0.19005784,\n",
       "         -0.27001402, -0.13343659, -0.04578328, -0.30646756, -0.08886027,\n",
       "          0.00418052],\n",
       "        [-0.20933418, -0.1395768 ,  0.08032164, -0.09069049,  0.41526875,\n",
       "         -0.04006419,  0.23113409, -0.17463219, -0.14474347,  0.08422509,\n",
       "          0.22912142, -0.27042544,  0.33365092,  0.02253991,  0.1105437 ,\n",
       "          0.1664423 ],\n",
       "        [ 0.35072353, -0.3335196 , -0.34166873,  0.27028045, -0.4063764 ,\n",
       "         -0.38284737, -0.06526506, -0.33059382, -0.4052354 ,  0.15701362,\n",
       "         -0.15540653, -0.12536854,  0.17025581, -0.2261649 , -0.3823736 ,\n",
       "          0.12190053],\n",
       "        [-0.3126945 , -0.10002932,  0.33991727,  0.19689015, -0.19894882,\n",
       "         -0.15218416, -0.17973566,  0.3834451 ,  0.08461246, -0.3338483 ,\n",
       "          0.24502859,  0.04936886, -0.24228092,  0.40128055,  0.07731196,\n",
       "         -0.11348414],\n",
       "        [ 0.27138337, -0.32612455,  0.00901282, -0.10404891,  0.15603164,\n",
       "         -0.26530543, -0.35774353, -0.3826154 , -0.01072615,  0.25035396,\n",
       "          0.26922205, -0.16106555,  0.39183137, -0.21817726, -0.23071349,\n",
       "         -0.21459933],\n",
       "        [-0.27543807, -0.14387101,  0.17791805,  0.36120054, -0.39471593,\n",
       "          0.09928092,  0.0244109 , -0.3774668 , -0.32739252, -0.0930694 ,\n",
       "         -0.26133984, -0.2796532 ,  0.09222355,  0.13926843,  0.2672409 ,\n",
       "         -0.36809543],\n",
       "        [-0.15510404,  0.30141816, -0.27423647, -0.10924828, -0.06170014,\n",
       "         -0.08353278,  0.26810357,  0.26115546, -0.12861073,  0.1534898 ,\n",
       "         -0.12973085, -0.07055211,  0.40837035,  0.11683497,  0.33026674,\n",
       "          0.329043  ],\n",
       "        [ 0.00363544,  0.41032103,  0.1499444 ,  0.10040471, -0.36963266,\n",
       "          0.210125  ,  0.4227285 ,  0.20829281, -0.30902642, -0.3224885 ,\n",
       "          0.24462321, -0.13965899,  0.40699324,  0.18804148,  0.08417645,\n",
       "          0.25489756],\n",
       "        [ 0.06915221, -0.3608028 ,  0.04846191,  0.2699553 ,  0.10373405,\n",
       "          0.40673754,  0.3177487 ,  0.35419253,  0.24935725,  0.36228952,\n",
       "         -0.294268  ,  0.28702655, -0.07561305, -0.058855  ,  0.07223138,\n",
       "          0.3796418 ],\n",
       "        [-0.30835444,  0.31857887, -0.19265778,  0.28823712,  0.20057824,\n",
       "          0.03716382, -0.15533757,  0.08827803,  0.28008327,  0.11127236,\n",
       "          0.02017534, -0.3236909 ,  0.01962435,  0.39770767,  0.32214913,\n",
       "          0.16310439]], dtype=float32),\n",
       " array([0., 0., 0., 0., 0., 0., 0., 0., 0., 0., 0., 0., 0., 0., 0., 0.],\n",
       "       dtype=float32),\n",
       " array([[-0.22471705],\n",
       "        [-0.5490003 ],\n",
       "        [-0.37190646],\n",
       "        [ 0.21862078],\n",
       "        [-0.2502001 ],\n",
       "        [-0.14593562],\n",
       "        [-0.57950157],\n",
       "        [-0.07588059],\n",
       "        [ 0.05475557],\n",
       "        [ 0.01933908],\n",
       "        [ 0.19292694],\n",
       "        [ 0.13381267],\n",
       "        [ 0.47308135],\n",
       "        [ 0.13238615],\n",
       "        [ 0.57915246],\n",
       "        [ 0.27950096]], dtype=float32),\n",
       " array([0.], dtype=float32)]"
      ]
     },
     "execution_count": 16,
     "metadata": {},
     "output_type": "execute_result"
    }
   ],
   "source": [
    "model.get_weights()"
   ]
  },
  {
   "cell_type": "markdown",
   "id": "ea26e41c",
   "metadata": {},
   "source": [
    "<img src=\"5.PNG\" height=\"250\" width=\"250\">"
   ]
  },
  {
   "cell_type": "markdown",
   "id": "121c0dee",
   "metadata": {},
   "source": [
    "### What are activation 🏃 functions, why are they necessary?\n",
    "---\n",
    "\n",
    "Without an activation function like `relu` (also called a non-linearity), the dense layer would consist of two linear operations- a dot product and an addition:  \n",
    "\n",
    "`output = dot(w,input) +b`  \n",
    "        \n",
    "So the layer could only learn the linear transformations(**affine** transformations) of the input data: the hypothesis space of the layer would be the set of all possible linear tansformations of the input data into 16-dimensional space.Such as hypothesis space is too restricted amd wouldn't benefit from multiple leyers of representations,beacuse a  deep stack of linear layers would still implement a linear operations: adding more layers wouldn't extend the hypothesis space.  \n",
    "\n",
    "In order to get access to a much richer hypothesis space that would benefit from deep repersentation, you need non-linearity, or activation function. `relu` is the most popular activation function in deep learning, bu there are many other candidates like: prelu,elu, and so on."
   ]
  },
  {
   "cell_type": "markdown",
   "id": "09d0fd2e",
   "metadata": {},
   "source": [
    "Finally, we need to choose a loss functions and an optimizer.Beacuse you're facing a binary classification problem and the output of your network is a probability ( end network with a single-unit layer with a sigmoid activation), it's best to use the  `binary_crossentropy` loss. It isn't the only viable choice: you could use, for instance, `mean_squared_error`.But crossentropy is usually the best chpice when you're deadling with models that outputs probablities.  \n",
    "`Crossentropy` is a qunatity from the field of Information Theory that measure the distance between probability distributions or, in this case, between the ground-truth ditribution and predictions.  \n",
    "\n",
    "Here's the step where you configure the model with the `rmsprop`and the `binary_crossentropy` loss functions. we will also monitor accuracy during the training."
   ]
  },
  {
   "cell_type": "markdown",
   "id": "21eb6fe5",
   "metadata": {},
   "source": [
    "#### Compiling the model\n",
    "---\n",
    "\n"
   ]
  },
  {
   "cell_type": "code",
   "execution_count": 15,
   "id": "3fbb27b8",
   "metadata": {},
   "outputs": [],
   "source": [
    "model.compile(optimizer=\"rmsprop\",\n",
    "             loss=\"binary_crossentropy\",\n",
    "             metrics=[\"accuracy\"])"
   ]
  },
  {
   "cell_type": "markdown",
   "id": "839d15f9",
   "metadata": {},
   "source": [
    "We are passing our optimizer, loss functions and metrics as string, which is possible because `rmsprop`,`binary_crossentropy` and `accuracy` are packaged as part of Keras.Sometimes you may want to configure the parametrs of optimizer or pass a custom loss function.The former can be done by passing an optimizer class instance as th optimizer argument.The latter can be done by passing functions objects as the loss and or metrics arguments.\n",
    "\n",
    "#### Configuring the optimizer\n",
    "___"
   ]
  },
  {
   "cell_type": "code",
   "execution_count": 16,
   "id": "1a552158",
   "metadata": {},
   "outputs": [],
   "source": [
    "from tensorflow.keras import optimizers\n",
    "from tensorflow.keras import metrics,losses\n",
    "\n",
    "model.compile(optimizer=optimizers.RMSprop(lr=0.001),\n",
    "              loss=losses.binary_crossentropy,\n",
    "              metrics=[metrics.binary_accuracy])"
   ]
  },
  {
   "cell_type": "markdown",
   "id": "f3f1b817",
   "metadata": {},
   "source": [
    "#### Validating the approach\n",
    "___\n",
    "\n",
    "In order to monitor during training the accuracy of the model on data it has nerver seenbefor, you'll creata a validation set by setting apart 10,000 samples from the original training data.\n",
    "\n",
    "\n",
    "**Listing validation set**"
   ]
  },
  {
   "cell_type": "code",
   "execution_count": 19,
   "id": "c58d99a0",
   "metadata": {},
   "outputs": [],
   "source": [
    "x_val = x_train[:10000]\n",
    "partial_x_train = x_train[10000:]\n",
    "\n",
    "y_val = y_train[:10000]\n",
    "partial_y_train = y_train[10000:]"
   ]
  },
  {
   "cell_type": "code",
   "execution_count": 21,
   "id": "3ff050e9",
   "metadata": {},
   "outputs": [
    {
     "data": {
      "text/plain": [
       "(array([[0., 1., 1., ..., 0., 0., 0.],\n",
       "        [0., 1., 1., ..., 0., 0., 0.],\n",
       "        [0., 1., 1., ..., 0., 0., 0.],\n",
       "        ...,\n",
       "        [0., 1., 1., ..., 0., 0., 0.],\n",
       "        [0., 1., 1., ..., 0., 0., 0.],\n",
       "        [0., 1., 1., ..., 1., 0., 0.]]),\n",
       " array([1., 0., 0., ..., 1., 0., 0.], dtype=float32))"
      ]
     },
     "execution_count": 21,
     "metadata": {},
     "output_type": "execute_result"
    }
   ],
   "source": [
    "x_val,y_val"
   ]
  },
  {
   "cell_type": "code",
   "execution_count": 30,
   "id": "8c4bbce5",
   "metadata": {},
   "outputs": [
    {
     "data": {
      "text/plain": [
       "(15000, 10000)"
      ]
     },
     "execution_count": 30,
     "metadata": {},
     "output_type": "execute_result"
    }
   ],
   "source": [
    "partial_x_train.shape"
   ]
  },
  {
   "cell_type": "markdown",
   "id": "06606e62",
   "metadata": {},
   "source": [
    "Now we will train the model for 20 epochs( 20 iteration over all samples in the x_train and y_train tensors), in minibatches of 512 samples. At the same time, you'll monitor loss and accuracy on the 10,000 samples that we set apart.This is done by passing validation data as the validation_data argument.  \n",
    "\n",
    "\n",
    "[Understanding difference between epoch and batch](https://machinelearningmastery.com/difference-between-a-batch-and-an-epoch/)\n",
    "\n",
    "#### Training the model\n",
    "---"
   ]
  },
  {
   "cell_type": "code",
   "execution_count": 22,
   "id": "dc55b765",
   "metadata": {},
   "outputs": [
    {
     "name": "stderr",
     "output_type": "stream",
     "text": [
      "2022-01-08 08:33:12.660667: I tensorflow/compiler/mlir/mlir_graph_optimization_pass.cc:116] None of the MLIR optimization passes are enabled (registered 2)\n",
      "2022-01-08 08:33:12.904925: I tensorflow/core/platform/profile_utils/cpu_utils.cc:112] CPU Frequency: 1800000000 Hz\n"
     ]
    },
    {
     "name": "stdout",
     "output_type": "stream",
     "text": [
      "Epoch 1/20\n",
      "30/30 [==============================] - 59s 1s/step - loss: 0.5830 - binary_accuracy: 0.6943 - val_loss: 0.3769 - val_binary_accuracy: 0.8643\n",
      "Epoch 2/20\n",
      "30/30 [==============================] - 1s 26ms/step - loss: 0.3098 - binary_accuracy: 0.9006 - val_loss: 0.3040 - val_binary_accuracy: 0.8837\n",
      "Epoch 3/20\n",
      "30/30 [==============================] - 1s 24ms/step - loss: 0.2210 - binary_accuracy: 0.9340 - val_loss: 0.2921 - val_binary_accuracy: 0.8815\n",
      "Epoch 4/20\n",
      "30/30 [==============================] - 1s 51ms/step - loss: 0.1688 - binary_accuracy: 0.9483 - val_loss: 0.2760 - val_binary_accuracy: 0.8886\n",
      "Epoch 5/20\n",
      "30/30 [==============================] - 1s 25ms/step - loss: 0.1413 - binary_accuracy: 0.9534 - val_loss: 0.2844 - val_binary_accuracy: 0.8859\n",
      "Epoch 6/20\n",
      "30/30 [==============================] - 1s 27ms/step - loss: 0.1103 - binary_accuracy: 0.9676 - val_loss: 0.2974 - val_binary_accuracy: 0.8833\n",
      "Epoch 7/20\n",
      "30/30 [==============================] - 1s 25ms/step - loss: 0.0893 - binary_accuracy: 0.9755 - val_loss: 0.3169 - val_binary_accuracy: 0.8809\n",
      "Epoch 8/20\n",
      "30/30 [==============================] - 1s 24ms/step - loss: 0.0688 - binary_accuracy: 0.9834 - val_loss: 0.3345 - val_binary_accuracy: 0.8807\n",
      "Epoch 9/20\n",
      "30/30 [==============================] - 1s 42ms/step - loss: 0.0530 - binary_accuracy: 0.9887 - val_loss: 0.3595 - val_binary_accuracy: 0.8782\n",
      "Epoch 10/20\n",
      "30/30 [==============================] - 1s 25ms/step - loss: 0.0450 - binary_accuracy: 0.9911 - val_loss: 0.3847 - val_binary_accuracy: 0.8771\n",
      "Epoch 11/20\n",
      "30/30 [==============================] - 1s 26ms/step - loss: 0.0355 - binary_accuracy: 0.9930 - val_loss: 0.4098 - val_binary_accuracy: 0.8760\n",
      "Epoch 12/20\n",
      "30/30 [==============================] - 1s 33ms/step - loss: 0.0277 - binary_accuracy: 0.9953 - val_loss: 0.4494 - val_binary_accuracy: 0.8738\n",
      "Epoch 13/20\n",
      "30/30 [==============================] - 1s 26ms/step - loss: 0.0231 - binary_accuracy: 0.9966 - val_loss: 0.5147 - val_binary_accuracy: 0.8663\n",
      "Epoch 14/20\n",
      "30/30 [==============================] - 1s 27ms/step - loss: 0.0155 - binary_accuracy: 0.9983 - val_loss: 0.5131 - val_binary_accuracy: 0.8705\n",
      "Epoch 15/20\n",
      "30/30 [==============================] - 1s 31ms/step - loss: 0.0134 - binary_accuracy: 0.9983 - val_loss: 0.5460 - val_binary_accuracy: 0.8712\n",
      "Epoch 16/20\n",
      "30/30 [==============================] - 1s 26ms/step - loss: 0.0086 - binary_accuracy: 0.9993 - val_loss: 0.5774 - val_binary_accuracy: 0.8701\n",
      "Epoch 17/20\n",
      "30/30 [==============================] - 1s 26ms/step - loss: 0.0067 - binary_accuracy: 0.9994 - val_loss: 0.6158 - val_binary_accuracy: 0.8671\n",
      "Epoch 18/20\n",
      "30/30 [==============================] - 1s 28ms/step - loss: 0.0062 - binary_accuracy: 0.9990 - val_loss: 0.6464 - val_binary_accuracy: 0.8673\n",
      "Epoch 19/20\n",
      "30/30 [==============================] - 1s 26ms/step - loss: 0.0033 - binary_accuracy: 0.9999 - val_loss: 0.6833 - val_binary_accuracy: 0.8655\n",
      "Epoch 20/20\n",
      "30/30 [==============================] - 1s 24ms/step - loss: 0.0036 - binary_accuracy: 0.9995 - val_loss: 0.7136 - val_binary_accuracy: 0.8656\n"
     ]
    }
   ],
   "source": [
    "history = model.fit(partial_x_train,\n",
    "                   partial_y_train,\n",
    "                   epochs=20,\n",
    "                   batch_size=512,\n",
    "                   validation_data = (x_val,y_val))"
   ]
  },
  {
   "cell_type": "markdown",
   "id": "468f147d",
   "metadata": {},
   "source": [
    "___\n",
    "Here we have choosen batch size of `512` and epoch as `20` this implies that `15000` training data is divided into `approx 30 minibatches of 512 samples in each`, this means that model weight will be updated after each batch of `512 samples`. Which is looped over `20` epoch which means each epoch will involve 30 batch or 30 weight updates in model.so there will we total `30*20 =600` times weight updation.\n",
    "\n",
    "At the end of every epcoh, there is a slight pause as the model computes its losss and accuracy on the 10,000 samples of validation data.  \n",
    "\n",
    "Calling `model.fit()` returns a history object,This object has a member history, which is a dictionary containing data about everything that happend during training.Let's look at it:\n",
    "\n"
   ]
  },
  {
   "cell_type": "code",
   "execution_count": 24,
   "id": "3f49469a",
   "metadata": {},
   "outputs": [
    {
     "data": {
      "text/plain": [
       "dict_keys(['loss', 'binary_accuracy', 'val_loss', 'val_binary_accuracy'])"
      ]
     },
     "execution_count": 24,
     "metadata": {},
     "output_type": "execute_result"
    }
   ],
   "source": [
    "history_dict = history.history\n",
    "history_dict.keys()"
   ]
  },
  {
   "cell_type": "markdown",
   "id": "b87968d6",
   "metadata": {},
   "source": [
    "This dictionary contain four enteries, One per metric that was monitered during **training** and during **validation**."
   ]
  },
  {
   "cell_type": "markdown",
   "id": "ae145a32",
   "metadata": {},
   "source": [
    "#### Plotting 📈📈 the training and validation loss\n",
    "___\n",
    "\n",
    "Let's use Matplotlib to plot the training and validation loss side by side, as well as the training and validation accuracy."
   ]
  },
  {
   "cell_type": "code",
   "execution_count": 47,
   "id": "9e3b80a3",
   "metadata": {},
   "outputs": [
    {
     "data": {
      "image/png": "[encoded data removed]",
      "text/plain": [
       "<Figure size 432x288 with 1 Axes>"
      ]
     },
     "metadata": {
      "needs_background": "light"
     },
     "output_type": "display_data"
    }
   ],
   "source": [
    "import matplotlib.pyplot as plt  \n",
    "\n",
    "history_dict = history.history\n",
    "loss_values = history_dict[\"loss\"]\n",
    "val_loss_values = history_dict[\"val_loss\"]  \n",
    "\n",
    "epochs = range(1,21)  \n",
    "\n",
    "plt.plot(epochs,loss_values,\"*\",label=\"Training loss\",) ## \"bo\"is for \"blue dot\"\n",
    "plt.plot(epochs,val_loss_values,\"b\",label=\"Validation loss\",color=\"green\") ## \"b\" is for \"solid blue line\"\n",
    "plt.title(\"Training and validation loss\")\n",
    "plt.xlabel(\"Epochs\")\n",
    "plt.ylabel(\"Loss\")\n",
    "plt.legend()\n",
    "\n",
    "plt.show()\n"
   ]
  },
  {
   "cell_type": "markdown",
   "id": "4780f1e6",
   "metadata": {},
   "source": [
    "#### plotting the training and validation accuracy 📈📈\n",
    "___"
   ]
  },
  {
   "cell_type": "code",
   "execution_count": 48,
   "id": "912bac98",
   "metadata": {},
   "outputs": [
    {
     "data": {
      "image/png": "[encoded data removed]",
      "text/plain": [
       "<Figure size 432x288 with 1 Axes>"
      ]
     },
     "metadata": {
      "needs_background": "light"
     },
     "output_type": "display_data"
    }
   ],
   "source": [
    "plt.clf()\n",
    "accuracy_values = history_dict[\"binary_accuracy\"]\n",
    "val_accuracy_values = history_dict[\"val_binary_accuracy\"]  \n",
    "\n",
    "\n",
    "epochs = range(1,21)  \n",
    "\n",
    "plt.plot(epochs,accuracy_values,\"*\",label=\"Training accuracy\",) ## \"bo\"is for \"blue dot\"\n",
    "plt.plot(epochs,val_accuracy_values,\"b\",label=\"Validation accuracy\",color=\"green\",) ## \"b\" is for \"solid blue line\"\n",
    "plt.title(\"Training and validation loss\")\n",
    "plt.xlabel(\"Epochs\")\n",
    "plt.ylabel(\"Loss\")\n",
    "plt.legend()\n",
    "\n",
    "plt.show()"
   ]
  },
  {
   "cell_type": "markdown",
   "id": "b72ba4f8",
   "metadata": {},
   "source": [
    "As you can see, the training loss decrease with every epoch, and the training accuracy increases with every epoch, and the training accurcy increases with every epoch. That's what we expect hen runnung gradient optimization- the quantity you're trying to minimize should be less with every iteration. But that isn't case case for validation loss  and accuracy, they seen to peek at fourth epcoh. The model that perform better on the training data isn't necessarliy a model that will fo better on data it has has nver seenbefore.In precise term what you are seeing is `overfitting`: after the second epoch, we are overoptimizing on hte training data, and you end up learning representation that are specific to the training data and don't generalize to data outside of the training set.  \n",
    "\n",
    "In this case to prevent overfitting you should stop training data after three epcohs.There are bunch of other techniques to mitigate overfitting."
   ]
  },
  {
   "cell_type": "markdown",
   "id": "20b83fa3",
   "metadata": {},
   "source": [
    "#### Retraining the model from scratch\n",
    "---"
   ]
  },
  {
   "cell_type": "code",
   "execution_count": 66,
   "id": "f649bb2d",
   "metadata": {},
   "outputs": [
    {
     "name": "stdout",
     "output_type": "stream",
     "text": [
      "Epoch 1/4\n",
      "30/30 [==============================] - 23s 363ms/step - loss: 0.6001 - accuracy: 0.7048 - val_loss: 0.4028 - val_accuracy: 0.8619\n",
      "Epoch 2/4\n",
      "30/30 [==============================] - 1s 49ms/step - loss: 0.3354 - accuracy: 0.9017 - val_loss: 0.3348 - val_accuracy: 0.8697\n",
      "Epoch 3/4\n",
      "30/30 [==============================] - 1s 28ms/step - loss: 0.2407 - accuracy: 0.9274 - val_loss: 0.2847 - val_accuracy: 0.8869\n",
      "Epoch 4/4\n",
      "30/30 [==============================] - 1s 27ms/step - loss: 0.1842 - accuracy: 0.9411 - val_loss: 0.2935 - val_accuracy: 0.8825\n",
      "CPU times: user 16.4 s, sys: 18.6 s, total: 35 s\n",
      "Wall time: 42 s\n"
     ]
    }
   ],
   "source": [
    "%%time\n",
    "model = models.Sequential()\n",
    "model.add(layers.Dense(16,activation=\"relu\",input_shape=(10000,)))\n",
    "model.add(layers.Dense(16,activation=\"relu\"))\n",
    "model.add(layers.Dense(1,activation=\"sigmoid\"))  \n",
    "\n",
    "model.compile(optimizer=\"rmsprop\",loss=\"binary_crossentropy\",metrics=[\"accuracy\"])\n",
    "\n",
    "history = model.fit(partial_x_train,partial_y_train,epochs=4,batch_size=512,validation_data=(x_val,y_val))"
   ]
  },
  {
   "cell_type": "markdown",
   "id": "d65721b8",
   "metadata": {},
   "source": [
    "#### plotting training loss and validation loss\n",
    "---"
   ]
  },
  {
   "cell_type": "code",
   "execution_count": 55,
   "id": "a0f14407",
   "metadata": {},
   "outputs": [
    {
     "data": {
      "image/png": "[encoded data removed]",
      "text/plain": [
       "<Figure size 432x288 with 1 Axes>"
      ]
     },
     "metadata": {
      "needs_background": "light"
     },
     "output_type": "display_data"
    }
   ],
   "source": [
    "history_dict = history.history\n",
    "\n",
    "train_loss = history_dict[\"loss\"]\n",
    "validation_loss = history_dict[\"val_loss\"]\n",
    "\n",
    "plt.plot(train_loss,[i for i in range(1,5)],color=\"red\",label=\"training loss\")\n",
    "plt.plot(validation_loss,[i for i in range(1,5)],label=\"validation loss\",marker=\"o\")\n",
    "plt.xlabel(\"Epochs\")\n",
    "plt.ylabel(\"loss\")\n",
    "plt.legend()\n",
    "plt.show()"
   ]
  },
  {
   "cell_type": "markdown",
   "id": "0d3c7c0f",
   "metadata": {},
   "source": [
    "#### Plot training and testing accuracy"
   ]
  },
  {
   "cell_type": "code",
   "execution_count": 65,
   "id": "534e546a",
   "metadata": {},
   "outputs": [
    {
     "data": {
      "image/png": "[encoded data removed]",
      "text/plain": [
       "<Figure size 432x288 with 1 Axes>"
      ]
     },
     "metadata": {
      "needs_background": "light"
     },
     "output_type": "display_data"
    }
   ],
   "source": [
    "train_accuracy  = history_dict[\"accuracy\"]\n",
    "validation_accuracy  = history_dict[\"val_accuracy\"]\n",
    "\n",
    "plt.clf()\n",
    "plt.plot(train_accuracy,[i for i in range(1,5)],color=\"green\",label= \"Training accuracy\")\n",
    "plt.plot(validation_accuracy,[i for i in range(1,5)],marker=\"o\",label= \"validation accuracy\")\n",
    "plt.xlabel(\"Epochs\")\n",
    "plt.ylabel(\"Accuracy\")\n",
    "plt.legend()\n",
    "plt.show()"
   ]
  },
  {
   "cell_type": "markdown",
   "id": "1d80a74a",
   "metadata": {},
   "source": [
    "#### Training model on whole data\n",
    "___"
   ]
  },
  {
   "cell_type": "code",
   "execution_count": 68,
   "id": "da418c92",
   "metadata": {},
   "outputs": [
    {
     "name": "stdout",
     "output_type": "stream",
     "text": [
      "Epoch 1/4\n",
      "49/49 [==============================] - 10s 18ms/step - loss: 0.5560 - accuracy: 0.7339\n",
      "Epoch 2/4\n",
      "49/49 [==============================] - 1s 16ms/step - loss: 0.2721 - accuracy: 0.9089\n",
      "Epoch 3/4\n",
      "49/49 [==============================] - 1s 17ms/step - loss: 0.2025 - accuracy: 0.9330\n",
      "Epoch 4/4\n",
      "49/49 [==============================] - 1s 18ms/step - loss: 0.1633 - accuracy: 0.9441\n"
     ]
    }
   ],
   "source": [
    "model = models.Sequential()\n",
    "model.add(layers.Dense(16,activation=\"relu\",input_shape=(10000,)))\n",
    "model.add(layers.Dense(16,activation=\"relu\"))\n",
    "model.add(layers.Dense(1,activation=\"sigmoid\"))  \n",
    "\n",
    "model.compile(optimizer=\"rmsprop\",loss=\"binary_crossentropy\",metrics=[\"accuracy\"])\n",
    "\n",
    "history = model.fit(x_train,y_train,epochs=4,batch_size=512,)\n"
   ]
  },
  {
   "cell_type": "code",
   "execution_count": 69,
   "id": "24ad0b15",
   "metadata": {},
   "outputs": [
    {
     "name": "stdout",
     "output_type": "stream",
     "text": [
      "782/782 [==============================] - 4s 3ms/step - loss: 0.2942 - accuracy: 0.8833\n"
     ]
    }
   ],
   "source": [
    "results = model.evaluate(x_test,y_test,)\n"
   ]
  },
  {
   "cell_type": "markdown",
   "id": "5f05fe07",
   "metadata": {},
   "source": [
    "With such a simple network we are able to achive quite good accuracy."
   ]
  },
  {
   "cell_type": "markdown",
   "id": "6517f17b",
   "metadata": {},
   "source": [
    "#### Wrapping up 👋👋👋👋\n",
    "---\n",
    "1. Data needs a preprocessing befor feeding into the network, it can be encoded as binary and many other encoders are also available.  \n",
    "\n",
    "\n",
    "2. Stacks of `Dense layers` with `relu` activations can solve a wide rangr of problems.  \n",
    "\n",
    "\n",
    "\n",
    "3. In case of binary classification you rnetworks should end with dense layer with one unit and a sigmoid activation function.  \n",
    "\n",
    "\n",
    "\n",
    "4. For sigmoid output he loss function you should use is `binary_Crossentropy`.  \n",
    "\n",
    "\n",
    "\n",
    "5. The `rmsprop` optimizers is generally good enough choice for any problems.  \n",
    "\n",
    "\n",
    "\n",
    "6. As the performance on training data increase, the model start geeting overfit and hence it won't perform well on unseen data.Be sure to always monitor the performace on the data outside the training set."
   ]
  },
  {
   "cell_type": "code",
   "execution_count": null,
   "id": "6cb00cac",
   "metadata": {},
   "outputs": [],
   "source": []
  }
 ],
 "metadata": {
  "kernelspec": {
   "display_name": "Python 3 (ipykernel)",
   "language": "python",
   "name": "python3"
  },
  "language_info": {
   "codemirror_mode": {
    "name": "ipython",
    "version": 3
   },
   "file_extension": ".py",
   "mimetype": "text/x-python",
   "name": "python",
   "nbconvert_exporter": "python",
   "pygments_lexer": "ipython3",
   "version": "3.8.10"
  }
 },
 "nbformat": 4,
 "nbformat_minor": 5
}
