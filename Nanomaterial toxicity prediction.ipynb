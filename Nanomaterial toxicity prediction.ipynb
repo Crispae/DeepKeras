{
 "cells": [
  {
   "cell_type": "markdown",
   "id": "3ef8f005",
   "metadata": {},
   "source": [
    "## Introduction\n",
    "___\n",
    "\n",
    "Nanomaterials are revolutionary discovery in 21st century, because of the properties exhibited by the materials due to their small size(<100nm).These material are being used in various products like, electronics,fabrics,bioimaging,solar cells etc.There is also an opposite apsect of nanomaterials which has going to have huge impact on our environment i.e toxic effects due to these materials, and its impact on flaura anf fauna of environment."
   ]
  },
  {
   "cell_type": "markdown",
   "id": "3a3e4eaa",
   "metadata": {},
   "source": [
    "Once nanomaterials are released in environment, its intrisics property of material and the environmental condition with which it is interact, will influence the toxicology of that material.Upon human exposure and direct intake, nanomaterials physicochemical properties and its possible modification will infulence absoprtionm distribution and organic metabolism of that particle.  \n",
    "\n",
    "As the nanoparticles are present in nanoscale range, its physiochemical interaction will also be unexpected.Due to high surface area of the nanomaterials and particles it's reactivity rate will also be higher, hence toxicity assesment with the principle of \"bulk material\" will not be relevant to do.The physichemical propeties which is being observed in engineered nanomaterials are:\n",
    "___\n",
    "- size of materials\n",
    "- chemical compostion (purity,crystallinity,electrial property,optical property)\n",
    "- Structural surface (reactivity,organic or inorganic coating etc.)\n",
    "- solublity and agglomeration potential.\n",
    "\n",
    "### Toxicological aspects of nanomaterials\n",
    "___\n",
    "\n",
    "In 2006, the OECD established a working party on manufactured nanomaterials to determine the appropriate methods for evaluating nanomaterials. According to the guidance manual developed, **26 physicochemical properties** should be considered.\n",
    "\n",
    "|                                                      Property                                                      \t|         Relevance         \t|\n",
    "|:------------------------------------------------------------------------------------------------------------------:\t|:-------------------------:\t|\n",
    "| Particle size distribution                                                  \t| Essential                 \t|\n",
    "| Degree/state of agglomeration                                                                                      \t| Important                 \t|\n",
    "| Particle shape                                                                                                     \t| Important                 \t|\n",
    "| Chemical composition/purity                                                                                        \t| Essential                 \t|\n",
    "| Solubility                                                                                                         \t| Essential (if applicable) \t|\n",
    "| Physical properties                                                                                                \t|                           \t|\n",
    "| Density                                                                                                            \t| Matrix dependent          \t|\n",
    "| Crystallinity                                                                                                      \t| Matrix dependent          \t|\n",
    "| Microstructure                                                                                                     \t| Matrix dependent          \t|\n",
    "| Optical and electronic properties                                                                                  \t| Matrix dependent          \t|\n",
    "| Bulk powder properties (important for dosimetry/exposure)                                                          \t| Matrix dependent          \t|\n",
    "| Concentration (can be measured as mass, surface area, or number concentrations)                                    \t| Essential                 \t|\n",
    "| Surface properties                                                                                                 \t|                           \t|\n",
    "| Specific surface area/porosity                                                                                     \t| Essential                 \t|\n",
    "| Surface chemistry/reactivity                                                                                       \t| Essential                 \t|\n",
    "| Surface adsorbed species                                                                                           \t| Important                 \t|\n",
    "| Surface charge/Zeta potential (especially in aqueous biological environment— may change according the environment) \t| Important                 \t|\n",
    "| Surface hydrophobicity                                                                                             \t| Essential                 \t|\n",
    "\n",
    "\n",
    "\n",
    "Nanomaterials encompass a broad spectrum of materials with different physical, chemical, and biological properties. Thus, they do not constitute a homogeneous group and are usually defined by the type of core, which may be organic, such as fullerenes (carbon derivatives) and carbon nanotubes (single and/or multilayer), or inorganic, such as those of metal oxides (iron, zinc, titanium, etc.), metals (mainly gold and silver), and quantum dots\n"
   ]
  },
  {
   "cell_type": "markdown",
   "id": "378b8613",
   "metadata": {},
   "source": [
    "### Insilico study of nanomaterials\n",
    "___\n",
    "\n",
    "In InSilico study of nanometerials the biggest hurdle is their representation in computational language, by which it can be learned through various Machine learning algortihm or it's application in NanoQsar.The above mentioned features of material can be considered as feature vector to feed in neural netowrk.Some works has been done by [Baichuan et.al](https://iopscience.iop.org/article/10.1088/2515-7639/ab0faa) for the analysis of material by using tsne and SOM method, where they have used the nanomaterial properties like(structural, local bonding,bulk strucuture property,surface property etc.)\n",
    "\n",
    "Another work by [Irini Furchi](\"https://www.ncbi.nlm.nih.gov/pmc/articles/PMC7432486/\") has used machine learning technqiues to study the toxilogical aspects of nanoparticles.In this they have mentioned about factors which is required to study the toxicity of molecule like:\n",
    "- Dose of duration\n",
    "- p-chem properties\n",
    "- cell-type in which study is being done\n",
    "- cell-origin and Assay.\n",
    "\n",
    "**They have aslo mentioned that there is no definite gudienlines in dataset preprationa and model implemention to create a predictive model with nanotoxicological data.**\n",
    "\n",
    "Earlier study have mentioned the the information like NanoParticle type,P-chem properties, exposure conditions and experimental parameters has important significane in predicitve  toxcity modelling.\n",
    "\n",
    "### Descriptors used for study:\n",
    "1. Nanoparticle type\n",
    "2. Nano-specific descriptor\n",
    "    - Core size\n",
    "    - shape\n",
    "    - Zeta potential etc.\n",
    "3. Study experimental design parameters\n",
    "    - Exposure condition\n",
    "    - In vitro chareacterstics\n",
    "4. agglomeration/aggreagation\n",
    "5. shape\n",
    "6. surface charge\n",
    "7. hydrodynamic size\n",
    "9. dose\n",
    "10. Duration\n",
    "\n",
    "Datasets of this study is availabel at [NanoCommonsKnowledgeBase](https://ssl.biomax.de/nanocommons/cgi/login_bioxm_portal.cgi)"
   ]
  },
  {
   "cell_type": "markdown",
   "id": "abccdd49",
   "metadata": {},
   "source": [
    "### Graph learning on nanoparticles\n",
    "\n",
    "A article by [Jing Ma et.al](\"https://www.nature.com/articles/s41524-021-00618-1\") has shown the studies done on hydroxyapatie nanoparticles dataset with different morphologies and sizes to predict the surface energy and surface stress on HANPS nanoparticles, with the use of boosting algorithm and also applied Graph Convulation network for good generalizability."
   ]
  },
  {
   "cell_type": "code",
   "execution_count": null,
   "id": "774aa2fb",
   "metadata": {},
   "outputs": [],
   "source": []
  }
 ],
 "metadata": {
  "kernelspec": {
   "display_name": "Python 3 (ipykernel)",
   "language": "python",
   "name": "python3"
  },
  "language_info": {
   "codemirror_mode": {
    "name": "ipython",
    "version": 3
   },
   "file_extension": ".py",
   "mimetype": "text/x-python",
   "name": "python",
   "nbconvert_exporter": "python",
   "pygments_lexer": "ipython3",
   "version": "3.8.10"
  }
 },
 "nbformat": 4,
 "nbformat_minor": 5
}
