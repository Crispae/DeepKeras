{
 "cells": [
  {
   "cell_type": "markdown",
   "id": "e3e8ec4b",
   "metadata": {},
   "source": [
    "## Multiclass classification  $\\rightarrow$  Newswire classifcation\n",
    "___\n",
    "\n",
    "We will build a network to classify Reuters neswires into **46** mutually exclusive topics. Because of more class than, this  problem is an instance of multiclass classification and beacuse each data point should be classified into only one category, the problem is more specifically an instance of single-label, multiclass classisifcation.If each data point could be belong to multiple categoties you,d be facing `multilabel, multiclass classifcation` problem."
   ]
  },
  {
   "cell_type": "markdown",
   "id": "4fb87837",
   "metadata": {},
   "source": [
    "#### Reuters dataset\n",
    "___\n",
    "\n",
    "This is a set of short newswires and their topics,published by Reuters in 1986.It's a simple, widely used toy dataset for text classifcation. There are 46 different topics; some topics are more represented then others, but each topic has at leat 10 examples in the training set.\n",
    "\n",
    "##### Loading the Dataset\n",
    "___"
   ]
  },
  {
   "cell_type": "code",
   "execution_count": 310,
   "id": "10b4f8b3",
   "metadata": {},
   "outputs": [],
   "source": [
    "import tensorflow as tf\n",
    "from tensorflow import keras\n",
    "from tensorflow.keras.datasets import reuters\n",
    "import warnings\n",
    "warnings.filterwarnings(\"ignore\")\n",
    "from collections import Counter"
   ]
  },
  {
   "cell_type": "code",
   "execution_count": 2,
   "id": "38cb4069",
   "metadata": {},
   "outputs": [],
   "source": [
    "(train_data,train_labels),(test_data,test_labels) = reuters.load_data(num_words=10000)  ## restricting to 10000 word limit"
   ]
  },
  {
   "cell_type": "code",
   "execution_count": 3,
   "id": "e22e1de3",
   "metadata": {},
   "outputs": [
    {
     "data": {
      "text/plain": [
       "8982"
      ]
     },
     "execution_count": 3,
     "metadata": {},
     "output_type": "execute_result"
    }
   ],
   "source": [
    "len(train_data)"
   ]
  },
  {
   "cell_type": "code",
   "execution_count": 4,
   "id": "d2d14e71",
   "metadata": {},
   "outputs": [
    {
     "data": {
      "text/plain": [
       "2246"
      ]
     },
     "execution_count": 4,
     "metadata": {},
     "output_type": "execute_result"
    }
   ],
   "source": [
    "len(test_data)"
   ]
  },
  {
   "cell_type": "code",
   "execution_count": 5,
   "id": "91155016",
   "metadata": {},
   "outputs": [
    {
     "name": "stdout",
     "output_type": "stream",
     "text": [
      "[1, 2, 2, 8, 43, 10, 447, 5, 25, 207, 270, 5, 3095, 111, 16, 369, 186, 90, 67, 7, 89, 5, 19, 102, 6, 19, 124, 15, 90, 67, 84, 22, 482, 26, 7, 48, 4, 49, 8, 864, 39, 209, 154, 6, 151, 6, 83, 11, 15, 22, 155, 11, 15, 7, 48, 9, 4579, 1005, 504, 6, 258, 6, 272, 11, 15, 22, 134, 44, 11, 15, 16, 8, 197, 1245, 90, 67, 52, 29, 209, 30, 32, 132, 6, 109, 15, 17, 12]\n"
     ]
    }
   ],
   "source": [
    "print(train_data[0]) ## list of encoded words of a sentence"
   ]
  },
  {
   "cell_type": "markdown",
   "id": "17a9e73e",
   "metadata": {},
   "source": [
    "### Data distribution visualization"
   ]
  },
  {
   "cell_type": "code",
   "execution_count": 329,
   "id": "fc6e41ac",
   "metadata": {},
   "outputs": [
    {
     "data": {
      "image/png": "[encoded data removed]",
      "text/plain": [
       "<Figure size 2160x1440 with 1 Axes>"
      ]
     },
     "metadata": {
      "needs_background": "light"
     },
     "output_type": "display_data"
    }
   ],
   "source": [
    "labels = np.append(train_labels,test_labels)\n",
    "count = Counter(labels)\n",
    "keys = list(count.keys())\n",
    "values = list(count.values())\n",
    "\n",
    "plt.figure(figsize=(30,20))\n",
    "plt.bar(x=keys,height=values,)\n",
    "plt.xlabel(\"Lables\")\n",
    "plt.ylabel(\"count\")\n",
    "plt.xticks(np.arange(1,47))\n",
    "plt.title(\"Data distribution\")\n",
    "\n",
    "plt.show()"
   ]
  },
  {
   "cell_type": "markdown",
   "id": "0b0457b2",
   "metadata": {},
   "source": [
    "##### Decoding newsire to back to text\n",
    "___"
   ]
  },
  {
   "cell_type": "code",
   "execution_count": 6,
   "id": "62af128c",
   "metadata": {},
   "outputs": [],
   "source": [
    "word_index = reuters.get_word_index()\n",
    "reverse_word_index = dict(([value,key]for key,value in word_index.items()))\n",
    "decoded_word = \" \".join([reverse_word_index.get(i-3,\"?\") for i in train_data[88]])"
   ]
  },
  {
   "cell_type": "code",
   "execution_count": 7,
   "id": "4da29618",
   "metadata": {},
   "outputs": [
    {
     "data": {
      "text/plain": [
       "'? lt shell canada ltd 72 pct owned by royal dutch shell group anticipates an improved level of earnings in 1987 assuming a continuation of prices and margins that existed at the end of 1986 and early 1987 the company said in the annual report shell previously reported 1986 operating profit fell to 130 mln dlrs excluding a 24 mln dlr unusual gain from 146 mln dlrs in the prior year the company also said 1987 capital and exploration spending of 420 mln dlrs will be 160 mln dlrs lower than last year due to the uncertain short term outlook 3'"
      ]
     },
     "execution_count": 7,
     "metadata": {},
     "output_type": "execute_result"
    }
   ],
   "source": [
    "decoded_word"
   ]
  },
  {
   "cell_type": "markdown",
   "id": "089959fe",
   "metadata": {},
   "source": [
    "##### Preparing the data\n",
    "___\n",
    "\n",
    "**Encoding the data**\n",
    "___"
   ]
  },
  {
   "cell_type": "code",
   "execution_count": 8,
   "id": "ee585c1e",
   "metadata": {},
   "outputs": [],
   "source": [
    "import numpy as np\n",
    "\n",
    "def vectorize_sequences(sequences,dimension=10000):\n",
    "    results = np.zeros((len(sequences),dimension))\n",
    "    for i,sequence in enumerate(sequences):\n",
    "        results[i,sequence] = 1\n",
    "    return results"
   ]
  },
  {
   "cell_type": "code",
   "execution_count": 261,
   "id": "bb7323ea",
   "metadata": {},
   "outputs": [],
   "source": [
    "x_train = vectorize_sequences(train_data)\n",
    "x_test = vectorize_sequences(test_data)"
   ]
  },
  {
   "cell_type": "markdown",
   "id": "6fc17d12",
   "metadata": {},
   "source": [
    "To vectorize the labels, there are two possiblities; you can cast the lable list as ain integer tensor, or you can use one-hot encoding. One-hot encoding is a widely used format for categorical data, also called `categorical encoding`.In this case one-hot encoding the lables consists of embedding each label as an all-zero vector with a 1 in the place of the label index"
   ]
  },
  {
   "cell_type": "code",
   "execution_count": 262,
   "id": "66355e64",
   "metadata": {},
   "outputs": [],
   "source": [
    "def to_one_hot(labels,dimension=46):\n",
    "    results = np.zeros((len(labels),dimension))\n",
    "    for i,label in enumerate(labels):\n",
    "        results[i,label] = 1\n",
    "    return results"
   ]
  },
  {
   "cell_type": "code",
   "execution_count": 263,
   "id": "30e64175",
   "metadata": {},
   "outputs": [
    {
     "data": {
      "text/plain": [
       "array([[0., 0., 0., ..., 0., 0., 0.],\n",
       "       [0., 0., 0., ..., 0., 0., 0.],\n",
       "       [0., 0., 0., ..., 0., 0., 0.],\n",
       "       ...,\n",
       "       [0., 0., 0., ..., 0., 0., 0.],\n",
       "       [0., 0., 0., ..., 0., 0., 0.],\n",
       "       [0., 0., 0., ..., 0., 0., 0.]])"
      ]
     },
     "execution_count": 263,
     "metadata": {},
     "output_type": "execute_result"
    }
   ],
   "source": [
    "to_one_hot(train_labels)"
   ]
  },
  {
   "cell_type": "markdown",
   "id": "356bb5a6",
   "metadata": {},
   "source": [
    "**There is a builtin method in keras to convert labels into one-hot encoding method  `to_categorical`.**"
   ]
  },
  {
   "cell_type": "code",
   "execution_count": 264,
   "id": "d9856cf7",
   "metadata": {},
   "outputs": [],
   "source": [
    "from tensorflow.keras.utils import to_categorical"
   ]
  },
  {
   "cell_type": "code",
   "execution_count": 265,
   "id": "a72192ba",
   "metadata": {},
   "outputs": [],
   "source": [
    "one_hot_train_labels = to_categorical(train_labels)\n",
    "one_hot_test_labels = to_categorical(test_labels)"
   ]
  },
  {
   "cell_type": "code",
   "execution_count": 266,
   "id": "fc4c8d92",
   "metadata": {},
   "outputs": [
    {
     "data": {
      "text/plain": [
       "array([0., 0., 0., 1., 0., 0., 0., 0., 0., 0., 0., 0., 0., 0., 0., 0., 0.,\n",
       "       0., 0., 0., 0., 0., 0., 0., 0., 0., 0., 0., 0., 0., 0., 0., 0., 0.,\n",
       "       0., 0., 0., 0., 0., 0., 0., 0., 0., 0., 0., 0.], dtype=float32)"
      ]
     },
     "execution_count": 266,
     "metadata": {},
     "output_type": "execute_result"
    }
   ],
   "source": [
    "one_hot_train_labels[0]"
   ]
  },
  {
   "cell_type": "markdown",
   "id": "9645fa0c",
   "metadata": {},
   "source": [
    "### Building the network\n",
    "___\n",
    "\n",
    "The classification problem in this case is similar to the binary one,which we used to solve previous case but here in this case the dimensionality of the output space is much larger.  \n",
    "\n",
    "In a stack on `Dense` layers like the ayou've been using, each layer can only access information present in the output of the previous layer.If one layer drops some information relevant to the classifcation problem, this information can never be recovered by later layers: Each layer can potentially become an information bottleneck.In previous work we have used 16-dimensional space, which is too limited to learn to seprate 46 different classes: **Such small layers may act as information bottlenecks, permananetly dropping relevant information**.Hence in this case we are using 64 unit dense layer.  \n",
    "\n",
    "#### Model Defination"
   ]
  },
  {
   "cell_type": "code",
   "execution_count": 18,
   "id": "69caa6c3",
   "metadata": {},
   "outputs": [],
   "source": [
    "from tensorflow.keras import models,layers\n",
    "from warnings import filterwarnings\n",
    "filterwarnings(\"ignore\")"
   ]
  },
  {
   "cell_type": "code",
   "execution_count": 74,
   "id": "3285a9a8",
   "metadata": {},
   "outputs": [],
   "source": [
    "model = models.Sequential()\n",
    "model.add(layers.Dense(units=64,activation=\"relu\",input_shape = (10000,)))\n",
    "model.add(layers.Dense(units=64,activation=\"relu\"))\n",
    "model.add(layers.Dense(units=46,activation=\"softmax\"))"
   ]
  },
  {
   "cell_type": "markdown",
   "id": "d644ee09",
   "metadata": {},
   "source": [
    "There are two other things you should note about this architecture:  \n",
    "\n",
    ">1. The network is ended with a `Dense layer` of size 46. This means for each input smaple, the network will output a 46 dimenisonal vector.Each entry in this vector (Each dimension) will encode a different output class.  \n",
    "\n",
    ">2. The last layer uses a `softmax` function.It means the network will output a `proabablity distribution`  over the 46 different output classes- for every input sample, the network will profuce a 46-dimesnional output vector, where `output[i]` is the probabiltiy that the sample belongs to class i.The  46 score will some to one.  \n",
    "\n",
    "The best loss function to use this case is `categorical_crossentropy`.It measures the distance between two proabablity sitributions:here, between the probability distribution output by the network and the true distribution of the labels.By minimizing the distance between two distributions, you train the network to output something as close as possible to the true labels.  \n",
    "\n",
    "### Compiling the model"
   ]
  },
  {
   "cell_type": "code",
   "execution_count": 76,
   "id": "d8e0f847",
   "metadata": {},
   "outputs": [],
   "source": [
    "model.compile(optimizer=\"rmsprop\",loss=\"categorical_crossentropy\",metrics=[\"accuracy\"])"
   ]
  },
  {
   "cell_type": "code",
   "execution_count": 118,
   "id": "3cbb99e0",
   "metadata": {},
   "outputs": [
    {
     "name": "stdout",
     "output_type": "stream",
     "text": [
      "Model: \"sequential_8\"\n",
      "_________________________________________________________________\n",
      "Layer (type)                 Output Shape              Param #   \n",
      "=================================================================\n",
      "dense_18 (Dense)             (None, 64)                640064    \n",
      "_________________________________________________________________\n",
      "dense_19 (Dense)             (None, 64)                4160      \n",
      "_________________________________________________________________\n",
      "dense_20 (Dense)             (None, 46)                2990      \n",
      "=================================================================\n",
      "Total params: 647,214\n",
      "Trainable params: 647,214\n",
      "Non-trainable params: 0\n",
      "_________________________________________________________________\n"
     ]
    }
   ],
   "source": [
    "model.summary()"
   ]
  },
  {
   "cell_type": "markdown",
   "id": "6c1ac1cb",
   "metadata": {},
   "source": [
    "### Validating your approach \n",
    "\n",
    "Seprate 1000 samples apart in training data to use as a validation set."
   ]
  },
  {
   "cell_type": "code",
   "execution_count": 267,
   "id": "64986e97",
   "metadata": {},
   "outputs": [],
   "source": [
    "x_val = x_train[:1000]\n",
    "partial_x_train = x_train[1000:]\n",
    "\n",
    "y_val = one_hot_train_labels[:1000]\n",
    "partial_y_train = one_hot_train_labels[1000:]"
   ]
  },
  {
   "cell_type": "markdown",
   "id": "aae6947c",
   "metadata": {},
   "source": [
    "### Training the model"
   ]
  },
  {
   "cell_type": "code",
   "execution_count": 78,
   "id": "2c8f966f",
   "metadata": {},
   "outputs": [
    {
     "name": "stdout",
     "output_type": "stream",
     "text": [
      "Epoch 1/20\n",
      "16/16 [==============================] - 1s 50ms/step - loss: 3.0951 - accuracy: 0.4168 - val_loss: 1.7733 - val_accuracy: 0.6260\n",
      "Epoch 2/20\n",
      "16/16 [==============================] - 1s 33ms/step - loss: 1.5457 - accuracy: 0.6830 - val_loss: 1.3348 - val_accuracy: 0.7130\n",
      "Epoch 3/20\n",
      "16/16 [==============================] - 1s 33ms/step - loss: 1.1315 - accuracy: 0.7615 - val_loss: 1.1630 - val_accuracy: 0.7610\n",
      "Epoch 4/20\n",
      "16/16 [==============================] - 1s 33ms/step - loss: 0.8860 - accuracy: 0.8108 - val_loss: 1.0574 - val_accuracy: 0.7800\n",
      "Epoch 5/20\n",
      "16/16 [==============================] - 1s 34ms/step - loss: 0.6961 - accuracy: 0.8551 - val_loss: 0.9989 - val_accuracy: 0.7890\n",
      "Epoch 6/20\n",
      "16/16 [==============================] - 1s 33ms/step - loss: 0.5668 - accuracy: 0.8870 - val_loss: 0.9844 - val_accuracy: 0.7810\n",
      "Epoch 7/20\n",
      "16/16 [==============================] - 1s 33ms/step - loss: 0.4363 - accuracy: 0.9131 - val_loss: 0.9161 - val_accuracy: 0.8160\n",
      "Epoch 8/20\n",
      "16/16 [==============================] - 1s 34ms/step - loss: 0.3729 - accuracy: 0.9218 - val_loss: 0.9301 - val_accuracy: 0.8060\n",
      "Epoch 9/20\n",
      "16/16 [==============================] - 1s 33ms/step - loss: 0.2962 - accuracy: 0.9396 - val_loss: 0.9283 - val_accuracy: 0.8180\n",
      "Epoch 10/20\n",
      "16/16 [==============================] - 1s 34ms/step - loss: 0.2445 - accuracy: 0.9476 - val_loss: 0.9660 - val_accuracy: 0.7970\n",
      "Epoch 11/20\n",
      "16/16 [==============================] - 1s 34ms/step - loss: 0.2153 - accuracy: 0.9526 - val_loss: 1.0211 - val_accuracy: 0.7920\n",
      "Epoch 12/20\n",
      "16/16 [==============================] - 1s 34ms/step - loss: 0.1990 - accuracy: 0.9530 - val_loss: 0.9323 - val_accuracy: 0.8030\n",
      "Epoch 13/20\n",
      "16/16 [==============================] - 1s 33ms/step - loss: 0.1640 - accuracy: 0.9583 - val_loss: 0.9417 - val_accuracy: 0.8090\n",
      "Epoch 14/20\n",
      "16/16 [==============================] - 1s 33ms/step - loss: 0.1455 - accuracy: 0.9590 - val_loss: 0.9962 - val_accuracy: 0.8010\n",
      "Epoch 15/20\n",
      "16/16 [==============================] - 1s 36ms/step - loss: 0.1308 - accuracy: 0.9595 - val_loss: 1.0077 - val_accuracy: 0.8050\n",
      "Epoch 16/20\n",
      "16/16 [==============================] - 1s 35ms/step - loss: 0.1270 - accuracy: 0.9582 - val_loss: 1.0453 - val_accuracy: 0.7960\n",
      "Epoch 17/20\n",
      "16/16 [==============================] - 1s 35ms/step - loss: 0.1215 - accuracy: 0.9593 - val_loss: 1.0133 - val_accuracy: 0.8010\n",
      "Epoch 18/20\n",
      "16/16 [==============================] - 1s 35ms/step - loss: 0.1083 - accuracy: 0.9622 - val_loss: 1.0678 - val_accuracy: 0.7990\n",
      "Epoch 19/20\n",
      "16/16 [==============================] - 1s 37ms/step - loss: 0.1127 - accuracy: 0.9611 - val_loss: 1.1106 - val_accuracy: 0.7910\n",
      "Epoch 20/20\n",
      "16/16 [==============================] - 1s 34ms/step - loss: 0.0972 - accuracy: 0.9630 - val_loss: 1.1132 - val_accuracy: 0.8000\n"
     ]
    }
   ],
   "source": [
    "history = model.fit(x= partial_x_train,y=partial_y_train,batch_size=512,epochs=20,validation_data= (x_val,y_val))"
   ]
  },
  {
   "cell_type": "markdown",
   "id": "208523d1",
   "metadata": {},
   "source": [
    "### Plotting learning curve"
   ]
  },
  {
   "cell_type": "code",
   "execution_count": 79,
   "id": "04f4fbad",
   "metadata": {},
   "outputs": [
    {
     "data": {
      "image/png": "[encoded data removed]",
      "text/plain": [
       "<Figure size 432x288 with 1 Axes>"
      ]
     },
     "metadata": {
      "needs_background": "light"
     },
     "output_type": "display_data"
    }
   ],
   "source": [
    "import matplotlib.pyplot as plt\n",
    "\n",
    "loss = history.history[\"loss\"]\n",
    "val_loss = history.history[\"val_loss\"]\n",
    "\n",
    "plt.clf()\n",
    "plt.plot([i for i in range(1,21)],loss,color=\"green\",label=\"loss\")\n",
    "plt.plot([i for i in range(1,21)],val_loss,color=\"blue\",label=\"Validation loss\",linestyle=\"dashed\",)\n",
    "plt.title(\"Training and validation loss\")\n",
    "plt.xlabel(\"Epochs\")\n",
    "plt.ylabel(\"loss\")\n",
    "\n",
    "plt.legend()\n",
    "plt.show()\n"
   ]
  },
  {
   "cell_type": "markdown",
   "id": "6953ee06",
   "metadata": {},
   "source": [
    "### Plotting accuracy curve"
   ]
  },
  {
   "cell_type": "code",
   "execution_count": 81,
   "id": "af8f5c40",
   "metadata": {},
   "outputs": [
    {
     "data": {
      "image/png": "[encoded data removed]",
      "text/plain": [
       "<Figure size 432x288 with 1 Axes>"
      ]
     },
     "metadata": {
      "needs_background": "light"
     },
     "output_type": "display_data"
    }
   ],
   "source": [
    "accuracy = history.history[\"accuracy\"]\n",
    "val_accuracy = history.history[\"val_accuracy\"]\n",
    "\n",
    "plt.clf()\n",
    "\n",
    "plt.plot([i for i in range(1,21)],accuracy,color=\"green\",label=\"training accuracy\")\n",
    "plt.plot([i for i in range(1,21)],val_accuracy,color=\"red\",linestyle=\"dashed\",label=\"val_accuracy\")\n",
    "plt.title(\"Training and validation accuracy\")\n",
    "\n",
    "plt.xlabel(\"Epochs\")\n",
    "plt.ylabel(\"Accuracy\")\n",
    "\n",
    "plt.legend()\n",
    "\n",
    "plt.show()"
   ]
  },
  {
   "cell_type": "markdown",
   "id": "7db440b3",
   "metadata": {},
   "source": [
    "**The netowrk begins to overfit after 9 epochs**"
   ]
  },
  {
   "cell_type": "markdown",
   "id": "43b0b175",
   "metadata": {},
   "source": [
    "### Retraining a model from scratch"
   ]
  },
  {
   "cell_type": "code",
   "execution_count": 111,
   "id": "9ccb3391",
   "metadata": {},
   "outputs": [],
   "source": [
    "model = models.Sequential()\n",
    "model.add(layers.Dense(units=64,activation=\"relu\",input_shape=(10000,)))\n",
    "model.add(layers.Dense(units=64,activation=\"relu\"))\n",
    "model.add(layers.Dense(units=46,activation=\"softmax\"))"
   ]
  },
  {
   "cell_type": "code",
   "execution_count": 112,
   "id": "8cbb9daf",
   "metadata": {},
   "outputs": [],
   "source": [
    "model.compile(optimizer=\"rmsprop\",\n",
    "              loss=\"categorical_crossentropy\",\n",
    "             metrics=[\"accuracy\"])"
   ]
  },
  {
   "cell_type": "code",
   "execution_count": 113,
   "id": "3b021a6f",
   "metadata": {},
   "outputs": [
    {
     "name": "stdout",
     "output_type": "stream",
     "text": [
      "Epoch 1/9\n",
      "16/16 [==============================] - 1s 52ms/step - loss: 3.1837 - accuracy: 0.3779 - val_loss: 1.7506 - val_accuracy: 0.6590\n",
      "Epoch 2/9\n",
      "16/16 [==============================] - 1s 33ms/step - loss: 1.5367 - accuracy: 0.6940 - val_loss: 1.2767 - val_accuracy: 0.7270\n",
      "Epoch 3/9\n",
      "16/16 [==============================] - 1s 34ms/step - loss: 1.0695 - accuracy: 0.7752 - val_loss: 1.1000 - val_accuracy: 0.7750\n",
      "Epoch 4/9\n",
      "16/16 [==============================] - 1s 33ms/step - loss: 0.8371 - accuracy: 0.8262 - val_loss: 0.9862 - val_accuracy: 0.7970\n",
      "Epoch 5/9\n",
      "16/16 [==============================] - 1s 34ms/step - loss: 0.6791 - accuracy: 0.8591 - val_loss: 0.9435 - val_accuracy: 0.8070\n",
      "Epoch 6/9\n",
      "16/16 [==============================] - 1s 34ms/step - loss: 0.5398 - accuracy: 0.8927 - val_loss: 0.8960 - val_accuracy: 0.8080\n",
      "Epoch 7/9\n",
      "16/16 [==============================] - 1s 33ms/step - loss: 0.4231 - accuracy: 0.9102 - val_loss: 0.8545 - val_accuracy: 0.8210\n",
      "Epoch 8/9\n",
      "16/16 [==============================] - 1s 34ms/step - loss: 0.3311 - accuracy: 0.9337 - val_loss: 0.8573 - val_accuracy: 0.8250\n",
      "Epoch 9/9\n",
      "16/16 [==============================] - 1s 36ms/step - loss: 0.2847 - accuracy: 0.9423 - val_loss: 0.8414 - val_accuracy: 0.8240\n"
     ]
    }
   ],
   "source": [
    "history = model.fit(x=partial_x_train,\n",
    "          y=partial_y_train,\n",
    "         epochs=9,\n",
    "         batch_size=512,\n",
    "         validation_data = (x_val,y_val))"
   ]
  },
  {
   "cell_type": "markdown",
   "id": "8fb990eb",
   "metadata": {},
   "source": [
    "### Plotting learning curve\n",
    "___"
   ]
  },
  {
   "cell_type": "code",
   "execution_count": 114,
   "id": "49ba9da0",
   "metadata": {},
   "outputs": [
    {
     "data": {
      "image/png": "[encoded data removed]",
      "text/plain": [
       "<Figure size 432x288 with 1 Axes>"
      ]
     },
     "metadata": {
      "needs_background": "light"
     },
     "output_type": "display_data"
    }
   ],
   "source": [
    "loss = history.history[\"loss\"]\n",
    "val_loss = history.history[\"val_loss\"]\n",
    "\n",
    "plt.clf()\n",
    "plt.plot([i for i in range(1,10)],loss,color=\"green\",label=\"Training loss\")\n",
    "plt.plot([i for i in range(1,10)],val_loss,color=\"red\",label=\"Validation loss\")\n",
    "plt.xlabel(\"epochs\")\n",
    "plt.ylabel(\"loss\")\n",
    "plt.title(\"Learning curve\")\n",
    "plt.legend()\n",
    "plt.show()"
   ]
  },
  {
   "cell_type": "code",
   "execution_count": 115,
   "id": "52777ae7",
   "metadata": {},
   "outputs": [
    {
     "data": {
      "text/plain": [
       "dict_keys(['loss', 'accuracy', 'val_loss', 'val_accuracy'])"
      ]
     },
     "execution_count": 115,
     "metadata": {},
     "output_type": "execute_result"
    }
   ],
   "source": [
    "history.history.keys()"
   ]
  },
  {
   "cell_type": "markdown",
   "id": "48bdb2d5",
   "metadata": {},
   "source": [
    "## Plotting accuracy curve"
   ]
  },
  {
   "cell_type": "code",
   "execution_count": 117,
   "id": "79514589",
   "metadata": {},
   "outputs": [
    {
     "data": {
      "image/png": "[encoded data removed]",
      "text/plain": [
       "<Figure size 432x288 with 1 Axes>"
      ]
     },
     "metadata": {
      "needs_background": "light"
     },
     "output_type": "display_data"
    }
   ],
   "source": [
    "accuracy = history.history[\"accuracy\"]\n",
    "val_accuracy = history.history[\"val_accuracy\"]\n",
    "\n",
    "plt.clf()\n",
    "plt.plot([i for i in range(1,10)],accuracy,color=\"green\",label=\"Training accuracy\")\n",
    "plt.plot([i for i in range(1,10)],val_accuracy,label=\"validation accuracy\")\n",
    "plt.xlabel(\"Epochs\")\n",
    "plt.ylabel(\"accuracy\")\n",
    "plt.legend()\n",
    "plt.title(\"Accuracy curve\")\n",
    "plt.show()"
   ]
  },
  {
   "cell_type": "code",
   "execution_count": 124,
   "id": "eaf40ebb",
   "metadata": {},
   "outputs": [
    {
     "name": "stdout",
     "output_type": "stream",
     "text": [
      "71/71 [==============================] - 1s 4ms/step - loss: 0.9742 - accuracy: 0.7894\n"
     ]
    }
   ],
   "source": [
    "results = model.evaluate(x=x_test,y=one_hot_test_labels)"
   ]
  },
  {
   "cell_type": "code",
   "execution_count": 126,
   "id": "53b589ef",
   "metadata": {},
   "outputs": [
    {
     "data": {
      "text/plain": [
       "[0.9742046594619751, 0.7894033789634705]"
      ]
     },
     "execution_count": 126,
     "metadata": {},
     "output_type": "execute_result"
    }
   ],
   "source": [
    "results"
   ]
  },
  {
   "cell_type": "markdown",
   "id": "51f5ad60",
   "metadata": {},
   "source": [
    "This approach gives an accuracy of ~80% . With a balanced binary classification proble,, the accuracy reached by a purely random classifier would be 50%.But in this case it is close to 19%"
   ]
  },
  {
   "cell_type": "code",
   "execution_count": 148,
   "id": "098eed75",
   "metadata": {},
   "outputs": [
    {
     "data": {
      "text/plain": [
       "0.18477292965271594"
      ]
     },
     "execution_count": 148,
     "metadata": {},
     "output_type": "execute_result"
    }
   ],
   "source": [
    "import copy\n",
    "test_labels_copy = copy.copy(test_labels)\n",
    "np.random.shuffle(test_labels_copy)\n",
    "\n",
    "hits_array = np.array(test_labels_copy) == np.array(test_labels)\n",
    "\n",
    "hits_array\n",
    "\n",
    "float(np.sum(hits_array)/len(test_labels))"
   ]
  },
  {
   "cell_type": "markdown",
   "id": "ca787437",
   "metadata": {},
   "source": [
    "### Generating predictions on new data\n",
    "___\n",
    "\n",
    "You can verify the `predict` method of the model instance return a **probability ditribution over all 46 pairs topics**, let's generate topic predictions doe all oft he test data"
   ]
  },
  {
   "cell_type": "code",
   "execution_count": 149,
   "id": "a100353e",
   "metadata": {},
   "outputs": [],
   "source": [
    "predictions = model.predict(x_test)"
   ]
  },
  {
   "cell_type": "markdown",
   "id": "c4c7e756",
   "metadata": {},
   "source": [
    "The shape of result on a single data (sentence) is a array of **probablity distribution** among 46 use case."
   ]
  },
  {
   "cell_type": "code",
   "execution_count": 153,
   "id": "9ea504e2",
   "metadata": {},
   "outputs": [
    {
     "data": {
      "text/plain": [
       "(2246, 46)"
      ]
     },
     "execution_count": 153,
     "metadata": {},
     "output_type": "execute_result"
    }
   ],
   "source": [
    "predictions.shape"
   ]
  },
  {
   "cell_type": "markdown",
   "id": "651c50f3",
   "metadata": {},
   "source": [
    "The coefficient in this vector sume is 1"
   ]
  },
  {
   "cell_type": "code",
   "execution_count": 215,
   "id": "e87bb4f8",
   "metadata": {},
   "outputs": [
    {
     "data": {
      "text/plain": [
       "1.0000001"
      ]
     },
     "execution_count": 215,
     "metadata": {},
     "output_type": "execute_result"
    }
   ],
   "source": [
    "np.sum(predictions[0])"
   ]
  },
  {
   "cell_type": "code",
   "execution_count": 219,
   "id": "d952c570",
   "metadata": {},
   "outputs": [
    {
     "data": {
      "text/plain": [
       "3"
      ]
     },
     "execution_count": 219,
     "metadata": {},
     "output_type": "execute_result"
    }
   ],
   "source": [
    "np.argmax(predictions[0])"
   ]
  },
  {
   "cell_type": "code",
   "execution_count": 220,
   "id": "e8cd1ee2",
   "metadata": {},
   "outputs": [
    {
     "data": {
      "image/png": "[encoded data removed]",
      "text/plain": [
       "<Figure size 432x288 with 1 Axes>"
      ]
     },
     "metadata": {
      "needs_background": "light"
     },
     "output_type": "display_data"
    }
   ],
   "source": [
    "plt.plot([i for i in range(1,47)],predictions[0])\n",
    "plt.xlabel(\"classes\")\n",
    "plt.ylabel(\"probablity\")\n",
    "plt.xticks(np.arange(1,47,step=2),)\n",
    "plt.title(\"probablity distribution\")\n",
    "plt.show()"
   ]
  },
  {
   "cell_type": "markdown",
   "id": "125b3cad",
   "metadata": {},
   "source": [
    "### A different way to handle the labels and the loss\n",
    "___"
   ]
  },
  {
   "cell_type": "markdown",
   "id": "df7beb2c",
   "metadata": {},
   "source": [
    "Another way to encode the labels would be to cast them as an integer tensor."
   ]
  },
  {
   "cell_type": "code",
   "execution_count": 227,
   "id": "dd393d52",
   "metadata": {},
   "outputs": [],
   "source": [
    "y_train = np.array(train_labels)\n",
    "y_test = np.array(test_labels)"
   ]
  },
  {
   "cell_type": "markdown",
   "id": "3d49299a",
   "metadata": {},
   "source": [
    "The only thing this approcah would change in the choice of the loss function.The loss function used `categorical_cross_entropy` expects the label to follow a categorical encoding. With integer labels, You shoulf use `sparse_categorical_crossentropy:` **Doubt**  \n",
    "\n",
    "Use this crossentropy metric when there are **two or more label classes**. We expect labels to be provided as **integers**. If you want to provide labels using one-hot representation, please use CategoricalCrossentropy metric. There should be **# classes floating point values per feature for y_pred** and a single floating point value per feature for y_true."
   ]
  },
  {
   "cell_type": "code",
   "execution_count": 228,
   "id": "b140722b",
   "metadata": {},
   "outputs": [],
   "source": [
    "model.compile(optimizer=\"rmsprop\",loss=\"sparse_categorical_crossentropy\",metrics=[\"acc\"])"
   ]
  },
  {
   "cell_type": "code",
   "execution_count": 247,
   "id": "8fb506f1",
   "metadata": {},
   "outputs": [],
   "source": [
    "from tensorflow.keras.metrics import sparse_categorical_crossentropy\n",
    "\n",
    "y_true = [1,2]\n",
    "y_pred = [[0.3,0.6,0.1],\n",
    "         [0.4,0.3,0.3]]\n",
    "loss = sparse_categorical_crossentropy(y_true,y_pred,)"
   ]
  },
  {
   "cell_type": "code",
   "execution_count": 248,
   "id": "d396784f",
   "metadata": {},
   "outputs": [
    {
     "data": {
      "text/plain": [
       "array([0.5108256, 1.2039728], dtype=float32)"
      ]
     },
     "execution_count": 248,
     "metadata": {},
     "output_type": "execute_result"
    }
   ],
   "source": [
    "loss.numpy()"
   ]
  },
  {
   "cell_type": "markdown",
   "id": "0d0c3f64",
   "metadata": {},
   "source": [
    "### The importance of having sufficently large inermediate layers\n",
    "___\n",
    "\n",
    "Let's introduce an information bottleneck by having intermediate layers that ae significantly less than 46-dimensional, like 4 dimensional.\n",
    "\n",
    "### A model with information bottleneck"
   ]
  },
  {
   "cell_type": "code",
   "execution_count": 271,
   "id": "63373375",
   "metadata": {},
   "outputs": [],
   "source": [
    "model = models.Sequential()\n",
    "model.add(layers.Dense(units=64,activation=\"relu\",input_shape=(10000,)))\n",
    "model.add(layers.Dense(units=4,activation=\"relu\"))\n",
    "model.add(layers.Dense(units=46,activation=\"softmax\"))"
   ]
  },
  {
   "cell_type": "code",
   "execution_count": 272,
   "id": "67e823a1",
   "metadata": {},
   "outputs": [],
   "source": [
    "model.compile(optimizer=\"rmsprop\",loss=\"categorical_crossentropy\",metrics=[\"accuracy\"])"
   ]
  },
  {
   "cell_type": "code",
   "execution_count": 273,
   "id": "cbf4ce88",
   "metadata": {},
   "outputs": [
    {
     "name": "stdout",
     "output_type": "stream",
     "text": [
      "Epoch 1/20\n",
      "63/63 [==============================] - 6s 35ms/step - loss: 3.5092 - accuracy: 0.1880 - val_loss: 2.6642 - val_accuracy: 0.4840\n",
      "Epoch 2/20\n",
      "63/63 [==============================] - 1s 19ms/step - loss: 2.3979 - accuracy: 0.5141 - val_loss: 1.8465 - val_accuracy: 0.5650\n",
      "Epoch 3/20\n",
      "63/63 [==============================] - 1s 19ms/step - loss: 1.7452 - accuracy: 0.5628 - val_loss: 1.6276 - val_accuracy: 0.5990\n",
      "Epoch 4/20\n",
      "63/63 [==============================] - 1s 19ms/step - loss: 1.4805 - accuracy: 0.6230 - val_loss: 1.5505 - val_accuracy: 0.6290\n",
      "Epoch 5/20\n",
      "63/63 [==============================] - 1s 19ms/step - loss: 1.3288 - accuracy: 0.6815 - val_loss: 1.5292 - val_accuracy: 0.6430\n",
      "Epoch 6/20\n",
      "63/63 [==============================] - 1s 20ms/step - loss: 1.2182 - accuracy: 0.6976 - val_loss: 1.4300 - val_accuracy: 0.6520\n",
      "Epoch 7/20\n",
      "63/63 [==============================] - 1s 19ms/step - loss: 1.1211 - accuracy: 0.7052 - val_loss: 1.4252 - val_accuracy: 0.6510\n",
      "Epoch 8/20\n",
      "63/63 [==============================] - 1s 19ms/step - loss: 1.0256 - accuracy: 0.7243 - val_loss: 1.4103 - val_accuracy: 0.6590\n",
      "Epoch 9/20\n",
      "63/63 [==============================] - 1s 19ms/step - loss: 0.9977 - accuracy: 0.7283 - val_loss: 1.4526 - val_accuracy: 0.6600\n",
      "Epoch 10/20\n",
      "63/63 [==============================] - 1s 19ms/step - loss: 0.8996 - accuracy: 0.7532 - val_loss: 1.4408 - val_accuracy: 0.6850\n",
      "Epoch 11/20\n",
      "63/63 [==============================] - 1s 20ms/step - loss: 0.8599 - accuracy: 0.7724 - val_loss: 1.4688 - val_accuracy: 0.6840\n",
      "Epoch 12/20\n",
      "63/63 [==============================] - 1s 20ms/step - loss: 0.8340 - accuracy: 0.7768 - val_loss: 1.4933 - val_accuracy: 0.6890\n",
      "Epoch 13/20\n",
      "63/63 [==============================] - 1s 21ms/step - loss: 0.8071 - accuracy: 0.7834 - val_loss: 1.5344 - val_accuracy: 0.6840\n",
      "Epoch 14/20\n",
      "63/63 [==============================] - 1s 18ms/step - loss: 0.7412 - accuracy: 0.7988 - val_loss: 1.6154 - val_accuracy: 0.6880\n",
      "Epoch 15/20\n",
      "63/63 [==============================] - 1s 20ms/step - loss: 0.7130 - accuracy: 0.8015 - val_loss: 1.6259 - val_accuracy: 0.6780\n",
      "Epoch 16/20\n",
      "63/63 [==============================] - 1s 19ms/step - loss: 0.6956 - accuracy: 0.8092 - val_loss: 1.6921 - val_accuracy: 0.6800\n",
      "Epoch 17/20\n",
      "63/63 [==============================] - 1s 19ms/step - loss: 0.6774 - accuracy: 0.8179 - val_loss: 1.7294 - val_accuracy: 0.6790\n",
      "Epoch 18/20\n",
      "63/63 [==============================] - 1s 19ms/step - loss: 0.6235 - accuracy: 0.8270 - val_loss: 1.7524 - val_accuracy: 0.6800\n",
      "Epoch 19/20\n",
      "63/63 [==============================] - 1s 20ms/step - loss: 0.6420 - accuracy: 0.8247 - val_loss: 1.8650 - val_accuracy: 0.6740\n",
      "Epoch 20/20\n",
      "63/63 [==============================] - 1s 19ms/step - loss: 0.6052 - accuracy: 0.8325 - val_loss: 1.8880 - val_accuracy: 0.6790\n"
     ]
    }
   ],
   "source": [
    "history = model.fit(x=partial_x_train,y=partial_y_train,epochs=20,batch_size=128,validation_data=(x_val,y_val))"
   ]
  },
  {
   "cell_type": "markdown",
   "id": "3c594698",
   "metadata": {},
   "source": [
    "### on test data"
   ]
  },
  {
   "cell_type": "code",
   "execution_count": 276,
   "id": "e9e68f54",
   "metadata": {},
   "outputs": [
    {
     "name": "stdout",
     "output_type": "stream",
     "text": [
      "71/71 [==============================] - 1s 9ms/step - loss: 2.2283 - accuracy: 0.6500\n"
     ]
    },
    {
     "data": {
      "text/plain": [
       "[2.2283194065093994, 0.6500445008277893]"
      ]
     },
     "execution_count": 276,
     "metadata": {},
     "output_type": "execute_result"
    }
   ],
   "source": [
    "model.evaluate(x_test,one_hot_test_labels)"
   ]
  },
  {
   "cell_type": "markdown",
   "id": "5a69dd2e",
   "metadata": {},
   "source": [
    "The network now peaks at **~71% validation accuracy**, an **8% absolute drop**.This drop is mostly due to the facts that we are trying to compress lots of information(enough information to recover the sepration hyperplanes of 46 classes) into an intemrediate space that is too low-dimensional.The network is able to cram most of the necessary information into these 4- dimesnonal represenatation but not all of it."
   ]
  },
  {
   "cell_type": "markdown",
   "id": "13190a03",
   "metadata": {},
   "source": [
    "### Let's viusalize the weight that is learned\n",
    "___"
   ]
  },
  {
   "cell_type": "code",
   "execution_count": 297,
   "id": "b876c089",
   "metadata": {},
   "outputs": [],
   "source": [
    "from tensorflow.keras import backend as k\n",
    "weights = []\n",
    "for w in model.trainable_weights:\n",
    "    weights.append(k.eval(w))"
   ]
  },
  {
   "cell_type": "code",
   "execution_count": 298,
   "id": "22952410",
   "metadata": {},
   "outputs": [
    {
     "data": {
      "text/plain": [
       "6"
      ]
     },
     "execution_count": 298,
     "metadata": {},
     "output_type": "execute_result"
    }
   ],
   "source": [
    "len(weights)"
   ]
  },
  {
   "cell_type": "code",
   "execution_count": 299,
   "id": "40861bf8",
   "metadata": {},
   "outputs": [
    {
     "data": {
      "text/plain": [
       "[(10000, 64), (64,), (64, 4), (4,), (4, 46), (46,)]"
      ]
     },
     "execution_count": 299,
     "metadata": {},
     "output_type": "execute_result"
    }
   ],
   "source": [
    "[weight.shape for weight in weights]"
   ]
  },
  {
   "cell_type": "code",
   "execution_count": 300,
   "id": "9f9579c8",
   "metadata": {},
   "outputs": [],
   "source": [
    "import pandas as pd\n",
    "#pd.DataFrame(weights[5])"
   ]
  },
  {
   "cell_type": "markdown",
   "id": "44cba5a9",
   "metadata": {},
   "source": [
    "## Wrapping up\n",
    "___\n",
    "\n",
    "1. If you're trying to classify data points among N classes, your network should  end with a `Dense` layer of size N.  \n",
    "\n",
    "2. In a single-label, multiclass classification problem, your network should end with a `softmax` activations so that it will output a probability distributions over the N output classes.  \n",
    "\n",
    "3. Categorical crossentropy is almost always the loss function you should use for such problems.It minimizes the distances between the probablity distributions output by the network and the true labels in multiclass classifications.  \n",
    "\n",
    "4. There are two ways to handle labels in multiclass classifcations:  \n",
    "\n",
    "\n",
    "\n",
    "    1. Encoding the label via categorical encoding and using categorical_crossentropy as a loss function.  \n",
    "    \n",
    "    \n",
    "    2. Encoding the label as integers and using the sparse_categorical_crossenyropy as loss functions.  \n",
    "\n",
    "___\n",
    "\n",
    ">**Note:** \n",
    "If you need to classify data into a large number of categories, you should avoid creating information bottlenecks in your network due to intermediate layers that are too small.\n",
    "___"
   ]
  }
 ],
 "metadata": {
  "kernelspec": {
   "display_name": "Python 3 (ipykernel)",
   "language": "python",
   "name": "python3"
  },
  "language_info": {
   "codemirror_mode": {
    "name": "ipython",
    "version": 3
   },
   "file_extension": ".py",
   "mimetype": "text/x-python",
   "name": "python",
   "nbconvert_exporter": "python",
   "pygments_lexer": "ipython3",
   "version": "3.8.10"
  }
 },
 "nbformat": 4,
 "nbformat_minor": 5
}
